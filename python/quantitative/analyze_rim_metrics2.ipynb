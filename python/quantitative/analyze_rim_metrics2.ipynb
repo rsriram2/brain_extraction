{
 "cells": [
  {
   "cell_type": "code",
   "execution_count": 1,
   "id": "4942269b",
   "metadata": {},
   "outputs": [],
   "source": [
    "import os\n",
    "from pathlib import Path\n",
    "import pandas as pd\n",
    "import numpy as np\n",
    "import matplotlib.pyplot as plt\n",
    "import seaborn as sns"
   ]
  },
  {
   "cell_type": "code",
   "execution_count": 10,
   "id": "1ae78cb1",
   "metadata": {},
   "outputs": [
    {
     "name": "stdout",
     "output_type": "stream",
     "text": [
      "True\n"
     ]
    },
    {
     "data": {
      "text/plain": [
       "method\n",
       "SynthStrip      5062\n",
       "Robust-CTBET    5062\n",
       "Brainchop       5062\n",
       "HD-CTBET        5062\n",
       "CTbet_Docker    5062\n",
       "CTBET           5062\n",
       "CT_BET          2403\n",
       "Name: count, dtype: int64"
      ]
     },
     "execution_count": 10,
     "metadata": {},
     "output_type": "execute_result"
    }
   ],
   "source": [
    "IN = Path('/Users/rushil/brain_extraction/results/quantitative/rim_metrics_r1_scan.csv')\n",
    "OUTDIR = Path('/Users/rushil/brain_extraction/results/quantitative/figures')\n",
    "OUTDIR.mkdir(parents=True, exist_ok=True)\n",
    "\n",
    "df = pd.read_csv(IN)\n",
    "methods = df['method'].unique().tolist()\n",
    "\n",
    "exclude = ['6109-317_20150302_0647_ct', '6142-308_20150610_0707_ct', '6193-324_20150924_1431_ct', '6257-335_20160118_1150_ct',\n",
    "                     '6418-193_20161228_1248_ct', '6470-296_20170602_0607_ct', '6480-154_20170622_0937_ct']\n",
    "\n",
    "exclude_prefixes = (\"6046\", \"6084\", \"6096\", \"6246\", \"6315\", \"6342\", \"6499\")\n",
    "\n",
    "df = df[~df[\"stem\"].isin(exclude)]\n",
    "df = df[~df[\"stem\"].str.startswith(exclude_prefixes)]\n",
    "\n",
    "print(len(df) == 6*5062 + 2403)\n",
    "\n",
    "df['method'].value_counts()"
   ]
  },
  {
   "cell_type": "code",
   "execution_count": 9,
   "id": "77226f77",
   "metadata": {},
   "outputs": [
    {
     "name": "stdout",
     "output_type": "stream",
     "text": [
      "Wrote p95 CDF to /Users/rushil/brain_extraction/results/quantitative/figures/p95_cdf_per_method.png\n",
      "Wrote per-method percent-above-thresholds (scans) to /Users/rushil/brain_extraction/results/quantitative/figures/method_pct_above_thresholds.csv\n",
      "Wrote per-method percent-above-thresholds (subjects) to /Users/rushil/brain_extraction/results/quantitative/figures/method_pct_above_thresholds_subjects.csv\n",
      "Wrote p99 CDF to /Users/rushil/brain_extraction/results/quantitative/figures/p99_cdf_per_method.png\n",
      "Wrote p99 CDF to /Users/rushil/brain_extraction/results/quantitative/figures/p99_cdf_per_method.png\n"
     ]
    }
   ],
   "source": [
    "# thresholds to evaluate\n",
    "thresh = {\n",
    "\t'frac_bone':[0.1,0.25,0.5],\n",
    "\t'vol_bone_ml':[50,100],\n",
    "\t'frac_air':[0.001,0.005],\n",
    "\t'vol_air_ml':[0.1,0.5,1],\n",
    "\t'p95':[1000],\n",
    "}\n",
    "\n",
    "# Subject-level dataframe (used for subject-wise per-method table)\n",
    "subj = pd.read_csv('/Users/rushil/brain_extraction/results/quantitative/rim_metrics_r1_subj.csv')\n",
    "\n",
    "# Plots: method-wise p95 CDF\n",
    "sns.set(style='whitegrid')\n",
    "plt.figure(figsize=(8,6))\n",
    "for method in methods:\n",
    "\ts = df.loc[df['method']==method,'p95'].dropna()\n",
    "\tif s.size==0: continue\n",
    "\tvals = np.sort(s.values)\n",
    "\tcdf = np.arange(1, len(vals)+1)/len(vals)\n",
    "\tplt.step(vals, cdf, where='post', label=method)\n",
    "plt.xscale('symlog')\n",
    "plt.xlabel('p95 HU (log scale)')\n",
    "plt.ylabel('CDF')\n",
    "plt.legend()\n",
    "plt.title('Per-method CDF of rim p95')\n",
    "plt.tight_layout()\n",
    "plt.savefig(OUTDIR / 'p95_cdf_per_method.png', dpi=150)\n",
    "plt.close()\n",
    "print('Wrote p95 CDF to', OUTDIR / 'p95_cdf_per_method.png')\n",
    "\n",
    "# --- per-method percent-above-threshold table (methods as columns) for scans ---\n",
    "row_keys = []\n",
    "for metric, ts in thresh.items():\n",
    "\tfor t in ts:\n",
    "\t\tkey = f\"{metric}_{t}\"\n",
    "\t\trow_keys.append(key)\n",
    "\n",
    "method_table = {m: [] for m in methods}\n",
    "for metric, ts in thresh.items():\n",
    "\tfor t in ts:\n",
    "\t\tfor m in methods:\n",
    "\t\t\tsub = df[df['method'] == m]\n",
    "\t\t\tif len(sub) == 0:\n",
    "\t\t\t\tpct = 0.0\n",
    "\t\t\telse:\n",
    "\t\t\t\tpct = float((sub[metric].fillna(0) > t).sum()) / float(len(sub)) * 100.0\n",
    "\t\t\tmethod_table[m].append(pct)\n",
    "\n",
    "method_pct_df = pd.DataFrame(method_table, index=row_keys)\n",
    "method_pct_df.index.name = 'metric_threshold'\n",
    "method_pct_df.to_csv(OUTDIR / 'method_pct_above_thresholds.csv')\n",
    "print('Wrote per-method percent-above-thresholds (scans) to', OUTDIR / 'method_pct_above_thresholds.csv')\n",
    "\n",
    "# --- per-method percent-above-threshold table (methods as columns) for subjects ---\n",
    "method_table_subj = {m: [] for m in methods}\n",
    "for metric, ts in thresh.items():\n",
    "\tfor t in ts:\n",
    "\t\tfor m in methods:\n",
    "\t\t\tsubs = subj[subj['method'] == m]\n",
    "\t\t\tif len(subs) == 0:\n",
    "\t\t\t\tpct = 0.0\n",
    "\t\t\telse:\n",
    "\t\t\t\tpct = float((subs[metric].fillna(0) > t).sum()) / float(len(subs)) * 100.0\n",
    "\t\t\tmethod_table_subj[m].append(pct)\n",
    "\n",
    "method_pct_df_subj = pd.DataFrame(method_table_subj, index=row_keys)\n",
    "method_pct_df_subj.index.name = 'metric_threshold'\n",
    "method_pct_df_subj.to_csv(OUTDIR / 'method_pct_above_thresholds_subjects.csv')\n",
    "print('Wrote per-method percent-above-thresholds (subjects) to', OUTDIR / 'method_pct_above_thresholds_subjects.csv')\n",
    "\n",
    "# p99 CDF plot (per-method)\n",
    "sns.set(style='whitegrid')\n",
    "plt.figure(figsize=(8,6))\n",
    "for method in methods:\n",
    "    s = df.loc[df['method']==method,'p99'].dropna()\n",
    "    if s.size == 0:\n",
    "        continue\n",
    "    vals = np.sort(s.values)\n",
    "    cdf = np.arange(1, len(vals)+1) / len(vals)\n",
    "    plt.step(vals, cdf, where='post', label=method)\n",
    "plt.xscale('symlog')\n",
    "plt.xlabel('p99 HU (log scale)')\n",
    "plt.ylabel('CDF')\n",
    "plt.legend()\n",
    "plt.title('Per-method CDF of rim p99')\n",
    "plt.tight_layout()\n",
    "plt.savefig(OUTDIR / 'p99_cdf_per_method.png', dpi=150)\n",
    "plt.close()\n",
    "print('Wrote p99 CDF to', OUTDIR / 'p99_cdf_per_method.png')\n"
   ]
  },
  {
   "cell_type": "code",
   "execution_count": null,
   "id": "fb2eaf9a",
   "metadata": {},
   "outputs": [],
   "source": []
  }
 ],
 "metadata": {
  "kernelspec": {
   "display_name": "rush_env",
   "language": "python",
   "name": "python3"
  },
  "language_info": {
   "codemirror_mode": {
    "name": "ipython",
    "version": 3
   },
   "file_extension": ".py",
   "mimetype": "text/x-python",
   "name": "python",
   "nbconvert_exporter": "python",
   "pygments_lexer": "ipython3",
   "version": "3.8.18"
  }
 },
 "nbformat": 4,
 "nbformat_minor": 5
}
