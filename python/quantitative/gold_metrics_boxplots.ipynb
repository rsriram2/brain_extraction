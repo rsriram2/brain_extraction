{
 "cells": [
  {
   "cell_type": "code",
   "execution_count": 5,
   "id": "27509349",
   "metadata": {},
   "outputs": [],
   "source": [
    "import pandas as pd\n",
    "import numpy as np"
   ]
  },
  {
   "cell_type": "code",
   "execution_count": 9,
   "id": "cae49ae3",
   "metadata": {},
   "outputs": [
    {
     "data": {
      "text/html": [
       "<div>\n",
       "<style scoped>\n",
       "    .dataframe tbody tr th:only-of-type {\n",
       "        vertical-align: middle;\n",
       "    }\n",
       "\n",
       "    .dataframe tbody tr th {\n",
       "        vertical-align: top;\n",
       "    }\n",
       "\n",
       "    .dataframe thead th {\n",
       "        text-align: right;\n",
       "    }\n",
       "</style>\n",
       "<table border=\"1\" class=\"dataframe\">\n",
       "  <thead>\n",
       "    <tr style=\"text-align: right;\">\n",
       "      <th></th>\n",
       "      <th>patient_id</th>\n",
       "      <th>stem</th>\n",
       "      <th>method_A</th>\n",
       "      <th>method_B</th>\n",
       "      <th>dice</th>\n",
       "      <th>iou</th>\n",
       "      <th>sensitivity</th>\n",
       "      <th>specificity</th>\n",
       "      <th>msd_mm</th>\n",
       "      <th>hd95_mm</th>\n",
       "      <th>icv_ml_ref</th>\n",
       "      <th>icv_ml_pred</th>\n",
       "      <th>delta_icv_ml</th>\n",
       "      <th>above_thresh</th>\n",
       "      <th>within_5ml</th>\n",
       "      <th>Dataset</th>\n",
       "      <th>icv_ratio</th>\n",
       "    </tr>\n",
       "  </thead>\n",
       "  <tbody>\n",
       "    <tr>\n",
       "      <th>0</th>\n",
       "      <td>1</td>\n",
       "      <td>01_BRAIN_1_Anonymized</td>\n",
       "      <td>Brainchop</td>\n",
       "      <td>GoldManual</td>\n",
       "      <td>0.960</td>\n",
       "      <td>0.922</td>\n",
       "      <td>0.986</td>\n",
       "      <td>0.989</td>\n",
       "      <td>1.399</td>\n",
       "      <td>3.207</td>\n",
       "      <td>1217.472</td>\n",
       "      <td>1284.200</td>\n",
       "      <td>66.727</td>\n",
       "      <td>0</td>\n",
       "      <td>0</td>\n",
       "      <td>JH_Head_CT</td>\n",
       "      <td>1.054809</td>\n",
       "    </tr>\n",
       "    <tr>\n",
       "      <th>1</th>\n",
       "      <td>1</td>\n",
       "      <td>01_BRAIN_1_Anonymized</td>\n",
       "      <td>HD-CTBET</td>\n",
       "      <td>GoldManual</td>\n",
       "      <td>0.939</td>\n",
       "      <td>0.886</td>\n",
       "      <td>0.985</td>\n",
       "      <td>0.981</td>\n",
       "      <td>2.486</td>\n",
       "      <td>5.000</td>\n",
       "      <td>1217.472</td>\n",
       "      <td>1335.502</td>\n",
       "      <td>118.030</td>\n",
       "      <td>0</td>\n",
       "      <td>0</td>\n",
       "      <td>JH_Head_CT</td>\n",
       "      <td>1.096947</td>\n",
       "    </tr>\n",
       "    <tr>\n",
       "      <th>2</th>\n",
       "      <td>1</td>\n",
       "      <td>01_BRAIN_1_Anonymized</td>\n",
       "      <td>SynthStrip</td>\n",
       "      <td>GoldManual</td>\n",
       "      <td>0.942</td>\n",
       "      <td>0.890</td>\n",
       "      <td>0.991</td>\n",
       "      <td>0.981</td>\n",
       "      <td>2.211</td>\n",
       "      <td>3.784</td>\n",
       "      <td>1217.472</td>\n",
       "      <td>1346.028</td>\n",
       "      <td>128.556</td>\n",
       "      <td>0</td>\n",
       "      <td>0</td>\n",
       "      <td>JH_Head_CT</td>\n",
       "      <td>1.105593</td>\n",
       "    </tr>\n",
       "    <tr>\n",
       "      <th>3</th>\n",
       "      <td>1</td>\n",
       "      <td>01_BRAIN_1_Anonymized</td>\n",
       "      <td>CTBET</td>\n",
       "      <td>GoldManual</td>\n",
       "      <td>0.991</td>\n",
       "      <td>0.983</td>\n",
       "      <td>0.992</td>\n",
       "      <td>0.998</td>\n",
       "      <td>0.223</td>\n",
       "      <td>0.635</td>\n",
       "      <td>1217.472</td>\n",
       "      <td>1220.469</td>\n",
       "      <td>2.997</td>\n",
       "      <td>1</td>\n",
       "      <td>1</td>\n",
       "      <td>JH_Head_CT</td>\n",
       "      <td>1.002462</td>\n",
       "    </tr>\n",
       "    <tr>\n",
       "      <th>4</th>\n",
       "      <td>1</td>\n",
       "      <td>01_BRAIN_1_Anonymized</td>\n",
       "      <td>Robust-CTBET</td>\n",
       "      <td>GoldManual</td>\n",
       "      <td>0.989</td>\n",
       "      <td>0.978</td>\n",
       "      <td>0.987</td>\n",
       "      <td>0.998</td>\n",
       "      <td>0.427</td>\n",
       "      <td>1.004</td>\n",
       "      <td>1217.472</td>\n",
       "      <td>1213.580</td>\n",
       "      <td>-3.893</td>\n",
       "      <td>1</td>\n",
       "      <td>1</td>\n",
       "      <td>JH_Head_CT</td>\n",
       "      <td>0.996803</td>\n",
       "    </tr>\n",
       "  </tbody>\n",
       "</table>\n",
       "</div>"
      ],
      "text/plain": [
       "  patient_id                   stem      method_A    method_B   dice    iou  \\\n",
       "0          1  01_BRAIN_1_Anonymized     Brainchop  GoldManual  0.960  0.922   \n",
       "1          1  01_BRAIN_1_Anonymized      HD-CTBET  GoldManual  0.939  0.886   \n",
       "2          1  01_BRAIN_1_Anonymized    SynthStrip  GoldManual  0.942  0.890   \n",
       "3          1  01_BRAIN_1_Anonymized         CTBET  GoldManual  0.991  0.983   \n",
       "4          1  01_BRAIN_1_Anonymized  Robust-CTBET  GoldManual  0.989  0.978   \n",
       "\n",
       "   sensitivity  specificity  msd_mm  hd95_mm  icv_ml_ref  icv_ml_pred  \\\n",
       "0        0.986        0.989   1.399    3.207    1217.472     1284.200   \n",
       "1        0.985        0.981   2.486    5.000    1217.472     1335.502   \n",
       "2        0.991        0.981   2.211    3.784    1217.472     1346.028   \n",
       "3        0.992        0.998   0.223    0.635    1217.472     1220.469   \n",
       "4        0.987        0.998   0.427    1.004    1217.472     1213.580   \n",
       "\n",
       "   delta_icv_ml  above_thresh  within_5ml     Dataset  icv_ratio  \n",
       "0        66.727             0           0  JH_Head_CT   1.054809  \n",
       "1       118.030             0           0  JH_Head_CT   1.096947  \n",
       "2       128.556             0           0  JH_Head_CT   1.105593  \n",
       "3         2.997             1           1  JH_Head_CT   1.002462  \n",
       "4        -3.893             1           1  JH_Head_CT   0.996803  "
      ]
     },
     "metadata": {},
     "output_type": "display_data"
    },
    {
     "name": "stdout",
     "output_type": "stream",
     "text": [
      "65\n"
     ]
    }
   ],
   "source": [
    "gold_std_filepaths = [\n",
    "    \"/Users/rushil/brain_extraction/results/quantitative/gold_std_comparison/JH_Head_CT/method_vs_gold_per_scan_JH_Head_CT.csv\",\n",
    "    \"/Users/rushil/brain_extraction/results/quantitative/gold_std_comparison/CERMEP-IDB-MRXFDG/method_vs_gold_per_scan_CERMEP-IDB-MRXFDG.csv\",\n",
    "    \"/Users/rushil/brain_extraction/results/quantitative/gold_std_comparison/MISTIE_III/method_vs_gold_per_scan_mistie3.csv\",\n",
    "]\n",
    "\n",
    "all_df = pd.DataFrame()\n",
    "for path in gold_std_filepaths:\n",
    "    df = pd.read_csv(path)\n",
    "    df['Dataset'] = path.split('/')[-2]\n",
    "    df.drop(columns=['gold_path', 'pred_path'], inplace=True, errors='ignore')\n",
    "    \n",
    "    # Filter out unwanted stems\n",
    "    if 'stem' in df.columns:\n",
    "        df = df[~df['stem'].str.contains('_BRAIN_2_Anonymized', na=False)]\n",
    "        df = df[df['stem'] != '13_BONE_1_Anonymized']\n",
    "    \n",
    "    all_df = pd.concat([all_df, df], ignore_index=True)\n",
    "\n",
    "all_df['icv_ratio'] = all_df['icv_ml_pred'] / all_df['icv_ml_ref']\n",
    "display(all_df.head())\n",
    "print(len(all_df.stem.unique()))"
   ]
  },
  {
   "cell_type": "code",
   "execution_count": 10,
   "id": "b676a253",
   "metadata": {},
   "outputs": [
    {
     "data": {
      "application/vnd.plotly.v1+json": {
       "config": {
        "plotlyServerURL": "https://plot.ly"
       },
       "data": [
        {
         "alignmentgroup": "all",
         "boxpoints": "outliers",
         "hovertemplate": "Dataset: CERMEP-IDB-MRXFDG<br>Method: %{x}<br>Dice: %{y:.3f}<extra></extra>",
         "jitter": 0,
         "legendgroup": "CERMEP-IDB-MRXFDG",
         "marker": {
          "color": "#6a4c93"
         },
         "name": "CERMEP-IDB-MRXFDG",
         "offsetgroup": "CERMEP-IDB-MRXFDG",
         "pointpos": 0,
         "type": "box",
         "x": [
          "Brainchop",
          "HD-CTBET",
          "SynthStrip",
          "CTBET",
          "Robust-CTBET",
          "CT_BET",
          "CTbet_Docker",
          "Brainchop",
          "HD-CTBET",
          "SynthStrip",
          "CTBET",
          "Robust-CTBET",
          "CT_BET",
          "CTbet_Docker",
          "Brainchop",
          "HD-CTBET",
          "SynthStrip",
          "CTBET",
          "Robust-CTBET",
          "CT_BET",
          "CTbet_Docker",
          "Brainchop",
          "HD-CTBET",
          "SynthStrip",
          "CTBET",
          "Robust-CTBET",
          "CT_BET",
          "CTbet_Docker",
          "Brainchop",
          "HD-CTBET",
          "SynthStrip",
          "CTBET",
          "Robust-CTBET",
          "CT_BET",
          "CTbet_Docker",
          "Brainchop",
          "HD-CTBET",
          "SynthStrip",
          "CTBET",
          "Robust-CTBET",
          "CT_BET",
          "CTbet_Docker",
          "Brainchop",
          "HD-CTBET",
          "SynthStrip",
          "CTBET",
          "Robust-CTBET",
          "CT_BET",
          "CTbet_Docker",
          "Brainchop",
          "HD-CTBET",
          "SynthStrip",
          "CTBET",
          "Robust-CTBET",
          "CT_BET",
          "CTbet_Docker",
          "Brainchop",
          "HD-CTBET",
          "SynthStrip",
          "CTBET",
          "Robust-CTBET",
          "CT_BET",
          "CTbet_Docker",
          "Brainchop",
          "HD-CTBET",
          "SynthStrip",
          "CTBET",
          "Robust-CTBET",
          "CT_BET",
          "CTbet_Docker",
          "Brainchop",
          "HD-CTBET",
          "SynthStrip",
          "CTBET",
          "Robust-CTBET",
          "CT_BET",
          "CTbet_Docker",
          "Brainchop",
          "HD-CTBET",
          "SynthStrip",
          "CTBET",
          "Robust-CTBET",
          "CT_BET",
          "CTbet_Docker",
          "Brainchop",
          "HD-CTBET",
          "SynthStrip",
          "CTBET",
          "Robust-CTBET",
          "CT_BET",
          "CTbet_Docker",
          "Brainchop",
          "HD-CTBET",
          "SynthStrip",
          "CTBET",
          "Robust-CTBET",
          "CT_BET",
          "CTbet_Docker",
          "Brainchop",
          "HD-CTBET",
          "SynthStrip",
          "CTBET",
          "Robust-CTBET",
          "CT_BET",
          "CTbet_Docker",
          "Brainchop",
          "HD-CTBET",
          "SynthStrip",
          "CTBET",
          "Robust-CTBET",
          "CT_BET",
          "CTbet_Docker",
          "Brainchop",
          "HD-CTBET",
          "SynthStrip",
          "CTBET",
          "Robust-CTBET",
          "CT_BET",
          "CTbet_Docker",
          "Brainchop",
          "HD-CTBET",
          "SynthStrip",
          "CTBET",
          "Robust-CTBET",
          "CT_BET",
          "CTbet_Docker",
          "Brainchop",
          "HD-CTBET",
          "SynthStrip",
          "CTBET",
          "Robust-CTBET",
          "CT_BET",
          "CTbet_Docker",
          "Brainchop",
          "HD-CTBET",
          "SynthStrip",
          "CTBET",
          "Robust-CTBET",
          "CT_BET",
          "CTbet_Docker"
         ],
         "y": {
          "bdata": "CtejcD0K7z+JQWDl0CLvP+Olm8QgsO4/CtejcD0K5z+LbOf7qfHuP42XbhKDwO4/N4lBYOXQ7j9iEFg5tMjuP99PjZduEu8/FK5H4XoU7j/TTWIQWDnsP+Olm8QgsO4/ukkMAiuH7j9mZmZmZmbuPzm0yHa+n+4/tvP91Hjp7j/ByqFFtvPtP0Jg5dAi2+U/MzMzMzMz6z/n+6nx0k3uP0oMAiuHFu0/ObTIdr6f7j+28/3UeOnuP0Jg5dAi2+0/IbByaJHt5D/jpZvEILDuP2ZmZmZmZu4/w/UoXI/C7T+Nl24Sg8DuP+Olm8QgsO4/kxgEVg4t7j+oxks3iUHkP2IQWDm0yO4/kxgEVg4t7j8K16NwPQrrP0a28/3UeO0/uB6F61G47j9qvHSTGATuP9Ei2/l+auQ/tMh2vp8a5z+R7Xw/NV7uP+xRuB6F6+0/4XoUrkfh7j81XrpJDALvP+kmMQisHO4/6SYxCKwc4j8MAiuHFtnuP+XQItv5fu4/ZDvfT42X7j8MAiuHFtnuPwrXo3A9Cu8/Di2yne+n7j+HFtnO91PTP4ts5/up8e4/O99PjZdu7j9oke18PzXuP7bz/dR46e4/4XoUrkfh7j8OLbKd76fuP+XQItv5fto/XrpJDAIr7z9iEFg5tMjuP7bz/dR46e4/9ihcj8L17D+4HoXrUbjuPz81XrpJDO4/8tJNYhBY5T8fhetRuB7tPz0K16NwPe4/8tJNYhBY7T8MAiuHFtnuP7bz/dR46e4/EoPAyqFF7j9cj8L1KFzjP2Dl0CLb+e4/ZDvfT42X7j+Nl24Sg8DuP7gehetRuO4/i2zn+6nx7j9oke18PzXuP/p+arx0k9g/tvP91Hjp7j/l0CLb+X7uPw4tsp3vp+4/ukkMAiuH7j8730+Nl27uP2q8dJMYBO4/YOXQItv55j9iEFg5tMjuP4/C9Shcj+4/wcqhRbbz7T/l0CLb+X7uP2Q730+Nl+4/QmDl0CLb7T/6fmq8dJNoPw4tsp3vp+4/EFg5tMh27j/n+6nx0k3uP4/C9Shcj+4/ZDvfT42X7j8Sg8DKoUXuP8l2vp8aL80/ppvEILBy6D8Sg8DKoUXuP+kmMQisHO4/kxgEVg4t7j8QWDm0yHbuP8P1KFyPwu0/AAAAAAAA6D85tMh2vp/uP7pJDAIrh+4/PQrXo3A97j9qvHSTGATuP5MYBFYOLe4/bef7qfHS7T8dWmQ730/pP7pJDAIrh+4/vHSTGARW7j/sUbgehevtP2IQWDm0yO4/tMh2vp8a7z+PwvUoXI/uP+F6FK5H4eY/NV66SQwC7z9iEFg5tMjuP76fGi/dJO4/vHSTGARW7j8K16NwPQrvP2Q730+Nl+4/RIts5/up2T/fT42XbhLvP7gehetRuO4/YhBYObTI7j+6SQwCK4fuPzVeukkMAu8/PzVeukkM7j8v3SQGgZXnP42XbhKDwO4/ZDvfT42X7j9t5/up8dLtPw==",
          "dtype": "f8"
         }
        },
        {
         "alignmentgroup": "all",
         "boxpoints": "outliers",
         "hovertemplate": "Dataset: JH_Head_CT<br>Method: %{x}<br>Dice: %{y:.3f}<extra></extra>",
         "jitter": 0,
         "legendgroup": "JH_Head_CT",
         "marker": {
          "color": "#264653"
         },
         "name": "JH_Head_CT",
         "offsetgroup": "JH_Head_CT",
         "pointpos": 0,
         "type": "box",
         "x": [
          "Brainchop",
          "HD-CTBET",
          "SynthStrip",
          "CTBET",
          "Robust-CTBET",
          "CT_BET",
          "CTbet_Docker",
          "Brainchop",
          "HD-CTBET",
          "SynthStrip",
          "CTBET",
          "Robust-CTBET",
          "CT_BET",
          "CTbet_Docker",
          "Brainchop",
          "HD-CTBET",
          "SynthStrip",
          "CTBET",
          "Robust-CTBET",
          "CTbet_Docker",
          "Brainchop",
          "HD-CTBET",
          "SynthStrip",
          "CTBET",
          "Robust-CTBET",
          "CT_BET",
          "CTbet_Docker",
          "Brainchop",
          "HD-CTBET",
          "SynthStrip",
          "CTBET",
          "Robust-CTBET",
          "CTbet_Docker",
          "Brainchop",
          "HD-CTBET",
          "SynthStrip",
          "CTBET",
          "Robust-CTBET",
          "CT_BET",
          "CTbet_Docker",
          "Brainchop",
          "HD-CTBET",
          "SynthStrip",
          "CTBET",
          "Robust-CTBET",
          "CTbet_Docker",
          "Brainchop",
          "HD-CTBET",
          "SynthStrip",
          "CTBET",
          "Robust-CTBET",
          "CTbet_Docker",
          "Brainchop",
          "HD-CTBET",
          "SynthStrip",
          "CTBET",
          "Robust-CTBET",
          "CT_BET",
          "CTbet_Docker",
          "Brainchop",
          "HD-CTBET",
          "SynthStrip",
          "CTBET",
          "Robust-CTBET",
          "CTbet_Docker",
          "Brainchop",
          "HD-CTBET",
          "SynthStrip",
          "CTBET",
          "Robust-CTBET",
          "CTbet_Docker",
          "Brainchop",
          "HD-CTBET",
          "SynthStrip",
          "CTBET",
          "Robust-CTBET",
          "CTbet_Docker",
          "Brainchop",
          "HD-CTBET",
          "SynthStrip",
          "CTBET",
          "Robust-CTBET",
          "CTbet_Docker",
          "Brainchop",
          "HD-CTBET",
          "SynthStrip",
          "CTBET",
          "Robust-CTBET",
          "CT_BET",
          "CTbet_Docker",
          "Brainchop",
          "HD-CTBET",
          "SynthStrip",
          "CTBET",
          "Robust-CTBET",
          "CTbet_Docker",
          "Brainchop",
          "HD-CTBET",
          "SynthStrip",
          "CTBET",
          "Robust-CTBET",
          "CTbet_Docker",
          "Brainchop",
          "HD-CTBET",
          "SynthStrip",
          "CTBET",
          "Robust-CTBET",
          "CT_BET",
          "CTbet_Docker",
          "Brainchop",
          "HD-CTBET",
          "SynthStrip",
          "CTBET",
          "Robust-CTBET",
          "CTbet_Docker",
          "Brainchop",
          "HD-CTBET",
          "SynthStrip",
          "CTBET",
          "Robust-CTBET",
          "CT_BET",
          "CTbet_Docker",
          "Brainchop",
          "HD-CTBET",
          "SynthStrip",
          "CTBET",
          "Robust-CTBET",
          "CT_BET",
          "CTbet_Docker",
          "Brainchop",
          "HD-CTBET",
          "SynthStrip",
          "CTBET",
          "Robust-CTBET",
          "CT_BET",
          "CTbet_Docker",
          "Brainchop",
          "HD-CTBET",
          "SynthStrip",
          "CTBET",
          "Robust-CTBET",
          "CTbet_Docker",
          "Brainchop",
          "HD-CTBET",
          "SynthStrip",
          "CTBET",
          "Robust-CTBET",
          "CTbet_Docker",
          "Brainchop",
          "HD-CTBET",
          "SynthStrip",
          "CTBET",
          "Robust-CTBET",
          "CTbet_Docker",
          "Brainchop",
          "HD-CTBET",
          "SynthStrip",
          "CTBET",
          "Robust-CTBET",
          "CTbet_Docker",
          "Brainchop",
          "HD-CTBET",
          "SynthStrip",
          "CTBET",
          "Robust-CTBET",
          "CT_BET",
          "CTbet_Docker",
          "Brainchop",
          "HD-CTBET",
          "SynthStrip",
          "CTBET",
          "Robust-CTBET",
          "CTbet_Docker",
          "Brainchop",
          "HD-CTBET",
          "SynthStrip",
          "CTBET",
          "Robust-CTBET",
          "CTbet_Docker",
          "Brainchop",
          "HD-CTBET",
          "SynthStrip",
          "CTBET",
          "Robust-CTBET",
          "CT_BET",
          "CTbet_Docker",
          "Brainchop",
          "HD-CTBET",
          "SynthStrip",
          "CTBET",
          "Robust-CTBET",
          "CTbet_Docker",
          "Brainchop",
          "HD-CTBET",
          "SynthStrip",
          "CTBET",
          "Robust-CTBET",
          "CT_BET",
          "CTbet_Docker",
          "Brainchop",
          "HD-CTBET",
          "SynthStrip",
          "CTBET",
          "Robust-CTBET",
          "CTbet_Docker",
          "Brainchop",
          "HD-CTBET",
          "SynthStrip",
          "CTBET",
          "Robust-CTBET",
          "CTbet_Docker",
          "Brainchop",
          "HD-CTBET",
          "SynthStrip",
          "CTBET",
          "Robust-CTBET",
          "CT_BET",
          "CTbet_Docker",
          "Brainchop",
          "HD-CTBET",
          "SynthStrip",
          "CTBET",
          "Robust-CTBET",
          "CTbet_Docker"
         ],
         "y": {
          "bdata": "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",
          "dtype": "f8"
         }
        },
        {
         "alignmentgroup": "all",
         "boxpoints": "outliers",
         "hovertemplate": "Dataset: MISTIE_III<br>Method: %{x}<br>Dice: %{y:.3f}<extra></extra>",
         "jitter": 0,
         "legendgroup": "MISTIE_III",
         "marker": {
          "color": "#b23a48"
         },
         "name": "MISTIE_III",
         "offsetgroup": "MISTIE_III",
         "pointpos": 0,
         "type": "box",
         "x": [
          "Brainchop",
          "HD-CTBET",
          "SynthStrip",
          "CTBET",
          "Robust-CTBET",
          "CTbet_Docker",
          "Brainchop",
          "HD-CTBET",
          "SynthStrip",
          "CTBET",
          "Robust-CTBET",
          "CT_BET",
          "CTbet_Docker",
          "Brainchop",
          "HD-CTBET",
          "SynthStrip",
          "CTBET",
          "Robust-CTBET",
          "CT_BET",
          "CTbet_Docker",
          "Brainchop",
          "HD-CTBET",
          "SynthStrip",
          "CTBET",
          "Robust-CTBET",
          "CT_BET",
          "CTbet_Docker",
          "Brainchop",
          "HD-CTBET",
          "SynthStrip",
          "CTBET",
          "Robust-CTBET",
          "CTbet_Docker",
          "Brainchop",
          "HD-CTBET",
          "SynthStrip",
          "CTBET",
          "Robust-CTBET",
          "CTbet_Docker",
          "Brainchop",
          "HD-CTBET",
          "SynthStrip",
          "CTBET",
          "Robust-CTBET",
          "CT_BET",
          "CTbet_Docker",
          "Brainchop",
          "HD-CTBET",
          "SynthStrip",
          "CTBET",
          "Robust-CTBET",
          "CT_BET",
          "CTbet_Docker",
          "Brainchop",
          "HD-CTBET",
          "SynthStrip",
          "CTBET",
          "Robust-CTBET",
          "CT_BET",
          "CTbet_Docker",
          "Brainchop",
          "HD-CTBET",
          "SynthStrip",
          "CTBET",
          "Robust-CTBET",
          "CT_BET",
          "CTbet_Docker"
         ],
         "y": {
          "bdata": "qMZLN4lB7D8bL90kBoHtP6wcWmQ73+s/vHSTGARW7j++nxov3STuP90kBoGVQ+8/30+Nl24S7z+PwvUoXI/uP+Olm8QgsO4/RIts5/up5T+0yHa+nxrvP42XbhKDwO4/WmQ730+N7z+R7Xw/NV7uP5MYBFYOLe4/mpmZmZmZ7T+Nl24Sg8DuP2Dl0CLb+e4/7nw/NV667T+LbOf7qfHuP/7UeOkmMew/SOF6FK5H7T/8qfHSTWLoP+xRuB6F6+0/mG4Sg8DK7T+HFtnO91PvP1yPwvUoXO8/vHSTGARW7j++nxov3STuP5huEoPAyu0/hxbZzvdT7z9cj8L1KFzvP4cW2c73U+8/cT0K16Nw7T8X2c73U+PtPxsv3SQGge0/MzMzMzMz7z+HFtnO91PvPzm0yHa+n+4/bxKDwMqh7T/pJjEIrBzuPxkEVg4tsu0/hetRuB6F7z9aZDvfT43vP+Olm8QgsO4/30+Nl24S7z8dWmQ730/tP2q8dJMYBO4/tvP91Hjp5j+yne+nxkvvPwaBlUOLbO8/mpmZmZmZ7T/dJAaBlUPvP2iR7Xw/Ne4/Di2yne+n7j+R7Xw/NV7uPzMzMzMzM+8/CKwcWmQ77z8MAiuHFtnuP7ByaJHtfO8/jZduEoPA7j83iUFg5dDuPzvfT42Xbu4/O99PjZdu6j9cj8L1KFzvP7gehetRuO4/XrpJDAIr7z8=",
          "dtype": "f8"
         }
        }
       ],
       "layout": {
        "boxmode": "group",
        "font": {
         "size": 13
        },
        "height": 600,
        "legend": {
         "orientation": "h",
         "title": {},
         "x": 0,
         "xanchor": "left",
         "y": 1.02,
         "yanchor": "bottom"
        },
        "margin": {
         "b": 50,
         "l": 60,
         "r": 30,
         "t": 60
        },
        "template": {
         "data": {
          "bar": [
           {
            "error_x": {
             "color": "#2a3f5f"
            },
            "error_y": {
             "color": "#2a3f5f"
            },
            "marker": {
             "line": {
              "color": "#E5ECF6",
              "width": 0.5
             },
             "pattern": {
              "fillmode": "overlay",
              "size": 10,
              "solidity": 0.2
             }
            },
            "type": "bar"
           }
          ],
          "barpolar": [
           {
            "marker": {
             "line": {
              "color": "#E5ECF6",
              "width": 0.5
             },
             "pattern": {
              "fillmode": "overlay",
              "size": 10,
              "solidity": 0.2
             }
            },
            "type": "barpolar"
           }
          ],
          "carpet": [
           {
            "aaxis": {
             "endlinecolor": "#2a3f5f",
             "gridcolor": "white",
             "linecolor": "white",
             "minorgridcolor": "white",
             "startlinecolor": "#2a3f5f"
            },
            "baxis": {
             "endlinecolor": "#2a3f5f",
             "gridcolor": "white",
             "linecolor": "white",
             "minorgridcolor": "white",
             "startlinecolor": "#2a3f5f"
            },
            "type": "carpet"
           }
          ],
          "choropleth": [
           {
            "colorbar": {
             "outlinewidth": 0,
             "ticks": ""
            },
            "type": "choropleth"
           }
          ],
          "contour": [
           {
            "colorbar": {
             "outlinewidth": 0,
             "ticks": ""
            },
            "colorscale": [
             [
              0,
              "#0d0887"
             ],
             [
              0.1111111111111111,
              "#46039f"
             ],
             [
              0.2222222222222222,
              "#7201a8"
             ],
             [
              0.3333333333333333,
              "#9c179e"
             ],
             [
              0.4444444444444444,
              "#bd3786"
             ],
             [
              0.5555555555555556,
              "#d8576b"
             ],
             [
              0.6666666666666666,
              "#ed7953"
             ],
             [
              0.7777777777777778,
              "#fb9f3a"
             ],
             [
              0.8888888888888888,
              "#fdca26"
             ],
             [
              1,
              "#f0f921"
             ]
            ],
            "type": "contour"
           }
          ],
          "contourcarpet": [
           {
            "colorbar": {
             "outlinewidth": 0,
             "ticks": ""
            },
            "type": "contourcarpet"
           }
          ],
          "heatmap": [
           {
            "colorbar": {
             "outlinewidth": 0,
             "ticks": ""
            },
            "colorscale": [
             [
              0,
              "#0d0887"
             ],
             [
              0.1111111111111111,
              "#46039f"
             ],
             [
              0.2222222222222222,
              "#7201a8"
             ],
             [
              0.3333333333333333,
              "#9c179e"
             ],
             [
              0.4444444444444444,
              "#bd3786"
             ],
             [
              0.5555555555555556,
              "#d8576b"
             ],
             [
              0.6666666666666666,
              "#ed7953"
             ],
             [
              0.7777777777777778,
              "#fb9f3a"
             ],
             [
              0.8888888888888888,
              "#fdca26"
             ],
             [
              1,
              "#f0f921"
             ]
            ],
            "type": "heatmap"
           }
          ],
          "histogram": [
           {
            "marker": {
             "pattern": {
              "fillmode": "overlay",
              "size": 10,
              "solidity": 0.2
             }
            },
            "type": "histogram"
           }
          ],
          "histogram2d": [
           {
            "colorbar": {
             "outlinewidth": 0,
             "ticks": ""
            },
            "colorscale": [
             [
              0,
              "#0d0887"
             ],
             [
              0.1111111111111111,
              "#46039f"
             ],
             [
              0.2222222222222222,
              "#7201a8"
             ],
             [
              0.3333333333333333,
              "#9c179e"
             ],
             [
              0.4444444444444444,
              "#bd3786"
             ],
             [
              0.5555555555555556,
              "#d8576b"
             ],
             [
              0.6666666666666666,
              "#ed7953"
             ],
             [
              0.7777777777777778,
              "#fb9f3a"
             ],
             [
              0.8888888888888888,
              "#fdca26"
             ],
             [
              1,
              "#f0f921"
             ]
            ],
            "type": "histogram2d"
           }
          ],
          "histogram2dcontour": [
           {
            "colorbar": {
             "outlinewidth": 0,
             "ticks": ""
            },
            "colorscale": [
             [
              0,
              "#0d0887"
             ],
             [
              0.1111111111111111,
              "#46039f"
             ],
             [
              0.2222222222222222,
              "#7201a8"
             ],
             [
              0.3333333333333333,
              "#9c179e"
             ],
             [
              0.4444444444444444,
              "#bd3786"
             ],
             [
              0.5555555555555556,
              "#d8576b"
             ],
             [
              0.6666666666666666,
              "#ed7953"
             ],
             [
              0.7777777777777778,
              "#fb9f3a"
             ],
             [
              0.8888888888888888,
              "#fdca26"
             ],
             [
              1,
              "#f0f921"
             ]
            ],
            "type": "histogram2dcontour"
           }
          ],
          "mesh3d": [
           {
            "colorbar": {
             "outlinewidth": 0,
             "ticks": ""
            },
            "type": "mesh3d"
           }
          ],
          "parcoords": [
           {
            "line": {
             "colorbar": {
              "outlinewidth": 0,
              "ticks": ""
             }
            },
            "type": "parcoords"
           }
          ],
          "pie": [
           {
            "automargin": true,
            "type": "pie"
           }
          ],
          "scatter": [
           {
            "fillpattern": {
             "fillmode": "overlay",
             "size": 10,
             "solidity": 0.2
            },
            "type": "scatter"
           }
          ],
          "scatter3d": [
           {
            "line": {
             "colorbar": {
              "outlinewidth": 0,
              "ticks": ""
             }
            },
            "marker": {
             "colorbar": {
              "outlinewidth": 0,
              "ticks": ""
             }
            },
            "type": "scatter3d"
           }
          ],
          "scattercarpet": [
           {
            "marker": {
             "colorbar": {
              "outlinewidth": 0,
              "ticks": ""
             }
            },
            "type": "scattercarpet"
           }
          ],
          "scattergeo": [
           {
            "marker": {
             "colorbar": {
              "outlinewidth": 0,
              "ticks": ""
             }
            },
            "type": "scattergeo"
           }
          ],
          "scattergl": [
           {
            "marker": {
             "colorbar": {
              "outlinewidth": 0,
              "ticks": ""
             }
            },
            "type": "scattergl"
           }
          ],
          "scattermap": [
           {
            "marker": {
             "colorbar": {
              "outlinewidth": 0,
              "ticks": ""
             }
            },
            "type": "scattermap"
           }
          ],
          "scattermapbox": [
           {
            "marker": {
             "colorbar": {
              "outlinewidth": 0,
              "ticks": ""
             }
            },
            "type": "scattermapbox"
           }
          ],
          "scatterpolar": [
           {
            "marker": {
             "colorbar": {
              "outlinewidth": 0,
              "ticks": ""
             }
            },
            "type": "scatterpolar"
           }
          ],
          "scatterpolargl": [
           {
            "marker": {
             "colorbar": {
              "outlinewidth": 0,
              "ticks": ""
             }
            },
            "type": "scatterpolargl"
           }
          ],
          "scatterternary": [
           {
            "marker": {
             "colorbar": {
              "outlinewidth": 0,
              "ticks": ""
             }
            },
            "type": "scatterternary"
           }
          ],
          "surface": [
           {
            "colorbar": {
             "outlinewidth": 0,
             "ticks": ""
            },
            "colorscale": [
             [
              0,
              "#0d0887"
             ],
             [
              0.1111111111111111,
              "#46039f"
             ],
             [
              0.2222222222222222,
              "#7201a8"
             ],
             [
              0.3333333333333333,
              "#9c179e"
             ],
             [
              0.4444444444444444,
              "#bd3786"
             ],
             [
              0.5555555555555556,
              "#d8576b"
             ],
             [
              0.6666666666666666,
              "#ed7953"
             ],
             [
              0.7777777777777778,
              "#fb9f3a"
             ],
             [
              0.8888888888888888,
              "#fdca26"
             ],
             [
              1,
              "#f0f921"
             ]
            ],
            "type": "surface"
           }
          ],
          "table": [
           {
            "cells": {
             "fill": {
              "color": "#EBF0F8"
             },
             "line": {
              "color": "white"
             }
            },
            "header": {
             "fill": {
              "color": "#C8D4E3"
             },
             "line": {
              "color": "white"
             }
            },
            "type": "table"
           }
          ]
         },
         "layout": {
          "annotationdefaults": {
           "arrowcolor": "#2a3f5f",
           "arrowhead": 0,
           "arrowwidth": 1
          },
          "autotypenumbers": "strict",
          "coloraxis": {
           "colorbar": {
            "outlinewidth": 0,
            "ticks": ""
           }
          },
          "colorscale": {
           "diverging": [
            [
             0,
             "#8e0152"
            ],
            [
             0.1,
             "#c51b7d"
            ],
            [
             0.2,
             "#de77ae"
            ],
            [
             0.3,
             "#f1b6da"
            ],
            [
             0.4,
             "#fde0ef"
            ],
            [
             0.5,
             "#f7f7f7"
            ],
            [
             0.6,
             "#e6f5d0"
            ],
            [
             0.7,
             "#b8e186"
            ],
            [
             0.8,
             "#7fbc41"
            ],
            [
             0.9,
             "#4d9221"
            ],
            [
             1,
             "#276419"
            ]
           ],
           "sequential": [
            [
             0,
             "#0d0887"
            ],
            [
             0.1111111111111111,
             "#46039f"
            ],
            [
             0.2222222222222222,
             "#7201a8"
            ],
            [
             0.3333333333333333,
             "#9c179e"
            ],
            [
             0.4444444444444444,
             "#bd3786"
            ],
            [
             0.5555555555555556,
             "#d8576b"
            ],
            [
             0.6666666666666666,
             "#ed7953"
            ],
            [
             0.7777777777777778,
             "#fb9f3a"
            ],
            [
             0.8888888888888888,
             "#fdca26"
            ],
            [
             1,
             "#f0f921"
            ]
           ],
           "sequentialminus": [
            [
             0,
             "#0d0887"
            ],
            [
             0.1111111111111111,
             "#46039f"
            ],
            [
             0.2222222222222222,
             "#7201a8"
            ],
            [
             0.3333333333333333,
             "#9c179e"
            ],
            [
             0.4444444444444444,
             "#bd3786"
            ],
            [
             0.5555555555555556,
             "#d8576b"
            ],
            [
             0.6666666666666666,
             "#ed7953"
            ],
            [
             0.7777777777777778,
             "#fb9f3a"
            ],
            [
             0.8888888888888888,
             "#fdca26"
            ],
            [
             1,
             "#f0f921"
            ]
           ]
          },
          "colorway": [
           "#636efa",
           "#EF553B",
           "#00cc96",
           "#ab63fa",
           "#FFA15A",
           "#19d3f3",
           "#FF6692",
           "#B6E880",
           "#FF97FF",
           "#FECB52"
          ],
          "font": {
           "color": "#2a3f5f"
          },
          "geo": {
           "bgcolor": "white",
           "lakecolor": "white",
           "landcolor": "#E5ECF6",
           "showlakes": true,
           "showland": true,
           "subunitcolor": "white"
          },
          "hoverlabel": {
           "align": "left"
          },
          "hovermode": "closest",
          "mapbox": {
           "style": "light"
          },
          "paper_bgcolor": "white",
          "plot_bgcolor": "#E5ECF6",
          "polar": {
           "angularaxis": {
            "gridcolor": "white",
            "linecolor": "white",
            "ticks": ""
           },
           "bgcolor": "#E5ECF6",
           "radialaxis": {
            "gridcolor": "white",
            "linecolor": "white",
            "ticks": ""
           }
          },
          "scene": {
           "xaxis": {
            "backgroundcolor": "#E5ECF6",
            "gridcolor": "white",
            "gridwidth": 2,
            "linecolor": "white",
            "showbackground": true,
            "ticks": "",
            "zerolinecolor": "white"
           },
           "yaxis": {
            "backgroundcolor": "#E5ECF6",
            "gridcolor": "white",
            "gridwidth": 2,
            "linecolor": "white",
            "showbackground": true,
            "ticks": "",
            "zerolinecolor": "white"
           },
           "zaxis": {
            "backgroundcolor": "#E5ECF6",
            "gridcolor": "white",
            "gridwidth": 2,
            "linecolor": "white",
            "showbackground": true,
            "ticks": "",
            "zerolinecolor": "white"
           }
          },
          "shapedefaults": {
           "line": {
            "color": "#2a3f5f"
           }
          },
          "ternary": {
           "aaxis": {
            "gridcolor": "white",
            "linecolor": "white",
            "ticks": ""
           },
           "baxis": {
            "gridcolor": "white",
            "linecolor": "white",
            "ticks": ""
           },
           "bgcolor": "#E5ECF6",
           "caxis": {
            "gridcolor": "white",
            "linecolor": "white",
            "ticks": ""
           }
          },
          "title": {
           "x": 0.05
          },
          "xaxis": {
           "automargin": true,
           "gridcolor": "white",
           "linecolor": "white",
           "ticks": "",
           "title": {
            "standoff": 15
           },
           "zerolinecolor": "white",
           "zerolinewidth": 2
          },
          "yaxis": {
           "automargin": true,
           "gridcolor": "white",
           "linecolor": "white",
           "ticks": "",
           "title": {
            "standoff": 15
           },
           "zerolinecolor": "white",
           "zerolinewidth": 2
          }
         }
        },
        "width": 1100,
        "xaxis": {
         "categoryarray": [
          "Brainchop",
          "CTBET",
          "CT_BET",
          "CTbet_Docker",
          "HD-CTBET",
          "Robust-CTBET",
          "SynthStrip"
         ],
         "categoryorder": "array",
         "tickmode": "array",
         "ticktext": [
          "Brainchop",
          "CTBET",
          "CT_BET",
          "CTbet_Docker",
          "HD-CTBET",
          "Robust-CTBET",
          "SynthStrip"
         ],
         "tickvals": [
          "Brainchop",
          "CTBET",
          "CT_BET",
          "CTbet_Docker",
          "HD-CTBET",
          "Robust-CTBET",
          "SynthStrip"
         ],
         "title": {
          "text": "Method"
         }
        },
        "yaxis": {
         "title": {
          "text": "Dice"
         }
        }
       }
      }
     },
     "metadata": {},
     "output_type": "display_data"
    }
   ],
   "source": [
    "import plotly.graph_objects as go\n",
    "import plotly.express as px\n",
    "\n",
    "datasets = sorted(all_df['Dataset'].unique())\n",
    "methods  = sorted(all_df['method_A'].unique())\n",
    "\n",
    "# Custom dark, color-blind friendly colors per dataset\n",
    "# Explicit mapping for reproducibility; extend if new datasets appear.\n",
    "custom_dataset_colors = {\n",
    "    'JH_Head_CT': '#264653',        # dark teal\n",
    "    'CERMEP-IDB-MRXFDG': '#6a4c93', # dark purple\n",
    "    'MISTIE_III': '#b23a48',        # deep wine red\n",
    "}\n",
    "# Fallback palette (Dark2) for any dataset not in the explicit map\n",
    "fallback_colors = px.colors.qualitative.Dark2\n",
    "for i, ds in enumerate(datasets):\n",
    "    if ds not in custom_dataset_colors:\n",
    "        custom_dataset_colors[ds] = fallback_colors[i % len(fallback_colors)]\n",
    "\n",
    "fig = go.Figure()\n",
    "\n",
    "# One trace per dataset; Plotly groups by x (method)\n",
    "for ds in datasets:\n",
    "    d = all_df[all_df['Dataset'] == ds]\n",
    "    if d.empty:\n",
    "        continue\n",
    "    fig.add_trace(go.Box(\n",
    "        x=d['method_A'],                # categories = methods\n",
    "        y=d['dice'],\n",
    "        name=ds,                        # legend per dataset\n",
    "        marker_color=custom_dataset_colors[ds],\n",
    "        boxpoints='outliers',\n",
    "        jitter=0,\n",
    "        pointpos=0,\n",
    "        legendgroup=ds,\n",
    "        offsetgroup=ds,                 # group within each method\n",
    "        alignmentgroup='all',\n",
    "        hovertemplate='Dataset: '+ds+'<br>Method: %{x}<br>Dice: %{y:.3f}<extra></extra>'\n",
    "    ))\n",
    "\n",
    "fig.update_layout(\n",
    "    boxmode='group',\n",
    "    width=1100, height=600,\n",
    "    margin=dict(l=60, r=30, t=60, b=50),\n",
    "    legend=dict(orientation='h', yanchor='bottom', y=1.02, xanchor='left', x=0, title=None),\n",
    "    font=dict(size=13)\n",
    ")\n",
    "fig.update_xaxes(title_text='Method',\n",
    "                 categoryorder='array', categoryarray=methods, tickmode='array',\n",
    "                 tickvals=methods, ticktext=methods)\n",
    "fig.update_yaxes(title_text='Dice')\n",
    "\n",
    "fig.show()"
   ]
  },
  {
   "cell_type": "code",
   "execution_count": 11,
   "id": "6a313c87",
   "metadata": {},
   "outputs": [
    {
     "data": {
      "application/vnd.plotly.v1+json": {
       "config": {
        "plotlyServerURL": "https://plot.ly"
       },
       "data": [
        {
         "alignmentgroup": "all",
         "boxpoints": "outliers",
         "hovertemplate": "Dataset: CERMEP-IDB-MRXFDG<br>Method: %{x}<br>IoU: %{y:.3f}<extra></extra>",
         "jitter": 0,
         "legendgroup": "CERMEP-IDB-MRXFDG",
         "marker": {
          "color": "#6a4c93"
         },
         "name": "CERMEP-IDB-MRXFDG",
         "offsetgroup": "CERMEP-IDB-MRXFDG",
         "pointpos": 0,
         "type": "box",
         "x": [
          "Brainchop",
          "HD-CTBET",
          "SynthStrip",
          "CTBET",
          "Robust-CTBET",
          "CT_BET",
          "CTbet_Docker",
          "Brainchop",
          "HD-CTBET",
          "SynthStrip",
          "CTBET",
          "Robust-CTBET",
          "CT_BET",
          "CTbet_Docker",
          "Brainchop",
          "HD-CTBET",
          "SynthStrip",
          "CTBET",
          "Robust-CTBET",
          "CT_BET",
          "CTbet_Docker",
          "Brainchop",
          "HD-CTBET",
          "SynthStrip",
          "CTBET",
          "Robust-CTBET",
          "CT_BET",
          "CTbet_Docker",
          "Brainchop",
          "HD-CTBET",
          "SynthStrip",
          "CTBET",
          "Robust-CTBET",
          "CT_BET",
          "CTbet_Docker",
          "Brainchop",
          "HD-CTBET",
          "SynthStrip",
          "CTBET",
          "Robust-CTBET",
          "CT_BET",
          "CTbet_Docker",
          "Brainchop",
          "HD-CTBET",
          "SynthStrip",
          "CTBET",
          "Robust-CTBET",
          "CT_BET",
          "CTbet_Docker",
          "Brainchop",
          "HD-CTBET",
          "SynthStrip",
          "CTBET",
          "Robust-CTBET",
          "CT_BET",
          "CTbet_Docker",
          "Brainchop",
          "HD-CTBET",
          "SynthStrip",
          "CTBET",
          "Robust-CTBET",
          "CT_BET",
          "CTbet_Docker",
          "Brainchop",
          "HD-CTBET",
          "SynthStrip",
          "CTBET",
          "Robust-CTBET",
          "CT_BET",
          "CTbet_Docker",
          "Brainchop",
          "HD-CTBET",
          "SynthStrip",
          "CTBET",
          "Robust-CTBET",
          "CT_BET",
          "CTbet_Docker",
          "Brainchop",
          "HD-CTBET",
          "SynthStrip",
          "CTBET",
          "Robust-CTBET",
          "CT_BET",
          "CTbet_Docker",
          "Brainchop",
          "HD-CTBET",
          "SynthStrip",
          "CTBET",
          "Robust-CTBET",
          "CT_BET",
          "CTbet_Docker",
          "Brainchop",
          "HD-CTBET",
          "SynthStrip",
          "CTBET",
          "Robust-CTBET",
          "CT_BET",
          "CTbet_Docker",
          "Brainchop",
          "HD-CTBET",
          "SynthStrip",
          "CTBET",
          "Robust-CTBET",
          "CT_BET",
          "CTbet_Docker",
          "Brainchop",
          "HD-CTBET",
          "SynthStrip",
          "CTBET",
          "Robust-CTBET",
          "CT_BET",
          "CTbet_Docker",
          "Brainchop",
          "HD-CTBET",
          "SynthStrip",
          "CTBET",
          "Robust-CTBET",
          "CT_BET",
          "CTbet_Docker",
          "Brainchop",
          "HD-CTBET",
          "SynthStrip",
          "CTBET",
          "Robust-CTBET",
          "CT_BET",
          "CTbet_Docker",
          "Brainchop",
          "HD-CTBET",
          "SynthStrip",
          "CTBET",
          "Robust-CTBET",
          "CT_BET",
          "CTbet_Docker",
          "Brainchop",
          "HD-CTBET",
          "SynthStrip",
          "CTBET",
          "Robust-CTBET",
          "CT_BET",
          "CTbet_Docker"
         ],
         "y": {
          "bdata": "6SYxCKwc7j/n+6nx0k3uP0a28/3UeO0/lkOLbOf74T/ByqFFtvPtP5qZmZmZme0/7nw/NV667T9Ei2zn+6ntP5MYBFYOLe4//Knx0k1i7D9zaJHtfD/pP0a28/3UeO0/yXa+nxov7T/2KFyPwvXsP/LSTWIQWO0/F9nO91Pj7T8pXI/C9SjsP8/3U+Olm+A/2c73U+Ol5z/4U+Olm8TsPzm0yHa+n+o/x0s3iUFg7T9CYOXQItvtPwAAAAAAAOw/CtejcD0K3z9GtvP91HjtP/YoXI/C9ew/AiuHFtnO6z/FILByaJHtPxsv3SQGge0/UI2XbhKD7D9vEoPAyqHdP0SLbOf7qe0/UI2XbhKD7D8xCKwcWmTnP7Kd76fGS+s/8KfGSzeJ7T/TTWIQWDnsP2q8dJMYBN4/FK5H4XoU4j9MN4lBYOXsP1TjpZvEIOw/bef7qfHS7T/pJjEIrBzuP9Ei2/l+auw/SOF6FK5H2T/D9Shcj8LtPx+F61G4Hu0/SOF6FK5H7T+YbhKDwMrtP76fGi/dJO4/cT0K16Nw7T9iEFg5tMjGP5ZDi2zn++0/oBov3SQG7T/P91PjpZvsPxfZzvdT4+0/bef7qfHS7T+cxCCwcmjtP05iEFg5tNA/ke18PzVe7j9Ei2zn+6ntPxfZzvdT4+0/EFg5tMh26j8bL90kBoHtP1K4HoXrUew/1XjpJjEI4D/jpZvEILDqP3npJjEIrOw/tMh2vp8a6z/D9Shcj8LtP+xRuB6F6+0/I9v5fmq87D8tsp3vp8bbP2q8dJMYBO4/HVpkO99P7T+amZmZmZntP/Cnxks3ie0/wcqhRbbz7T/P91PjpZvsPxBYObTIds4/QmDl0CLb7T9KDAIrhxbtP5zEILByaO0/yXa+nxov7T+gGi/dJAbtP30/NV66Sew/7FG4HoXr4T9Ei2zn+6ntP57vp8ZLN+0/VOOlm8Qg7D8fhetRuB7tPx1aZDvfT+0/AAAAAAAA7D/8qfHSTWJQP3E9CtejcO0/SgwCK4cW7T/NzMzMzMzsP57vp8ZLN+0/HVpkO99P7T9OYhBYObTsP/yp8dJNYsA/LbKd76fG4z8j2/l+arzsP9Ei2/l+auw/+n5qvHST7D91kxgEVg7tP9ejcD0K1+s/MzMzMzMz4z/y0k1iEFjtP8l2vp8aL+0/pHA9Ctej7D+oxks3iUHsPyUGgZVDi+w/gZVDi2zn6z8hsHJoke3kP/T91HjpJu0/okW28/3U7D9/arx0kxjsP0SLbOf7qe0/EoPAyqFF7j9zaJHtfD/tP5huEoPAyuE/FK5H4XoU7j8ZBFYOLbLtP3sUrkfheuw/okW28/3U7D+TGARWDi3uP0jhehSuR+0/qvHSTWIQ0D9oke18PzXuP/Cnxks3ie0/RIts5/up7T/Jdr6fGi/tP+kmMQisHO4/JzEIrBxa7D8OLbKd76fiP5qZmZmZme0/SOF6FK5H7T9WDi2yne/rPw==",
          "dtype": "f8"
         }
        },
        {
         "alignmentgroup": "all",
         "boxpoints": "outliers",
         "hovertemplate": "Dataset: JH_Head_CT<br>Method: %{x}<br>IoU: %{y:.3f}<extra></extra>",
         "jitter": 0,
         "legendgroup": "JH_Head_CT",
         "marker": {
          "color": "#264653"
         },
         "name": "JH_Head_CT",
         "offsetgroup": "JH_Head_CT",
         "pointpos": 0,
         "type": "box",
         "x": [
          "Brainchop",
          "HD-CTBET",
          "SynthStrip",
          "CTBET",
          "Robust-CTBET",
          "CT_BET",
          "CTbet_Docker",
          "Brainchop",
          "HD-CTBET",
          "SynthStrip",
          "CTBET",
          "Robust-CTBET",
          "CT_BET",
          "CTbet_Docker",
          "Brainchop",
          "HD-CTBET",
          "SynthStrip",
          "CTBET",
          "Robust-CTBET",
          "CTbet_Docker",
          "Brainchop",
          "HD-CTBET",
          "SynthStrip",
          "CTBET",
          "Robust-CTBET",
          "CT_BET",
          "CTbet_Docker",
          "Brainchop",
          "HD-CTBET",
          "SynthStrip",
          "CTBET",
          "Robust-CTBET",
          "CTbet_Docker",
          "Brainchop",
          "HD-CTBET",
          "SynthStrip",
          "CTBET",
          "Robust-CTBET",
          "CT_BET",
          "CTbet_Docker",
          "Brainchop",
          "HD-CTBET",
          "SynthStrip",
          "CTBET",
          "Robust-CTBET",
          "CTbet_Docker",
          "Brainchop",
          "HD-CTBET",
          "SynthStrip",
          "CTBET",
          "Robust-CTBET",
          "CTbet_Docker",
          "Brainchop",
          "HD-CTBET",
          "SynthStrip",
          "CTBET",
          "Robust-CTBET",
          "CT_BET",
          "CTbet_Docker",
          "Brainchop",
          "HD-CTBET",
          "SynthStrip",
          "CTBET",
          "Robust-CTBET",
          "CTbet_Docker",
          "Brainchop",
          "HD-CTBET",
          "SynthStrip",
          "CTBET",
          "Robust-CTBET",
          "CTbet_Docker",
          "Brainchop",
          "HD-CTBET",
          "SynthStrip",
          "CTBET",
          "Robust-CTBET",
          "CTbet_Docker",
          "Brainchop",
          "HD-CTBET",
          "SynthStrip",
          "CTBET",
          "Robust-CTBET",
          "CTbet_Docker",
          "Brainchop",
          "HD-CTBET",
          "SynthStrip",
          "CTBET",
          "Robust-CTBET",
          "CT_BET",
          "CTbet_Docker",
          "Brainchop",
          "HD-CTBET",
          "SynthStrip",
          "CTBET",
          "Robust-CTBET",
          "CTbet_Docker",
          "Brainchop",
          "HD-CTBET",
          "SynthStrip",
          "CTBET",
          "Robust-CTBET",
          "CTbet_Docker",
          "Brainchop",
          "HD-CTBET",
          "SynthStrip",
          "CTBET",
          "Robust-CTBET",
          "CT_BET",
          "CTbet_Docker",
          "Brainchop",
          "HD-CTBET",
          "SynthStrip",
          "CTBET",
          "Robust-CTBET",
          "CTbet_Docker",
          "Brainchop",
          "HD-CTBET",
          "SynthStrip",
          "CTBET",
          "Robust-CTBET",
          "CT_BET",
          "CTbet_Docker",
          "Brainchop",
          "HD-CTBET",
          "SynthStrip",
          "CTBET",
          "Robust-CTBET",
          "CT_BET",
          "CTbet_Docker",
          "Brainchop",
          "HD-CTBET",
          "SynthStrip",
          "CTBET",
          "Robust-CTBET",
          "CT_BET",
          "CTbet_Docker",
          "Brainchop",
          "HD-CTBET",
          "SynthStrip",
          "CTBET",
          "Robust-CTBET",
          "CTbet_Docker",
          "Brainchop",
          "HD-CTBET",
          "SynthStrip",
          "CTBET",
          "Robust-CTBET",
          "CTbet_Docker",
          "Brainchop",
          "HD-CTBET",
          "SynthStrip",
          "CTBET",
          "Robust-CTBET",
          "CTbet_Docker",
          "Brainchop",
          "HD-CTBET",
          "SynthStrip",
          "CTBET",
          "Robust-CTBET",
          "CTbet_Docker",
          "Brainchop",
          "HD-CTBET",
          "SynthStrip",
          "CTBET",
          "Robust-CTBET",
          "CT_BET",
          "CTbet_Docker",
          "Brainchop",
          "HD-CTBET",
          "SynthStrip",
          "CTBET",
          "Robust-CTBET",
          "CTbet_Docker",
          "Brainchop",
          "HD-CTBET",
          "SynthStrip",
          "CTBET",
          "Robust-CTBET",
          "CTbet_Docker",
          "Brainchop",
          "HD-CTBET",
          "SynthStrip",
          "CTBET",
          "Robust-CTBET",
          "CT_BET",
          "CTbet_Docker",
          "Brainchop",
          "HD-CTBET",
          "SynthStrip",
          "CTBET",
          "Robust-CTBET",
          "CTbet_Docker",
          "Brainchop",
          "HD-CTBET",
          "SynthStrip",
          "CTBET",
          "Robust-CTBET",
          "CT_BET",
          "CTbet_Docker",
          "Brainchop",
          "HD-CTBET",
          "SynthStrip",
          "CTBET",
          "Robust-CTBET",
          "CTbet_Docker",
          "Brainchop",
          "HD-CTBET",
          "SynthStrip",
          "CTBET",
          "Robust-CTBET",
          "CTbet_Docker",
          "Brainchop",
          "HD-CTBET",
          "SynthStrip",
          "CTBET",
          "Robust-CTBET",
          "CT_BET",
          "CTbet_Docker",
          "Brainchop",
          "HD-CTBET",
          "SynthStrip",
          "CTBET",
          "Robust-CTBET",
          "CTbet_Docker"
         ],
         "y": {
          "bdata": "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",
          "dtype": "f8"
         }
        },
        {
         "alignmentgroup": "all",
         "boxpoints": "outliers",
         "hovertemplate": "Dataset: MISTIE_III<br>Method: %{x}<br>IoU: %{y:.3f}<extra></extra>",
         "jitter": 0,
         "legendgroup": "MISTIE_III",
         "marker": {
          "color": "#b23a48"
         },
         "name": "MISTIE_III",
         "offsetgroup": "MISTIE_III",
         "pointpos": 0,
         "type": "box",
         "x": [
          "Brainchop",
          "HD-CTBET",
          "SynthStrip",
          "CTBET",
          "Robust-CTBET",
          "CTbet_Docker",
          "Brainchop",
          "HD-CTBET",
          "SynthStrip",
          "CTBET",
          "Robust-CTBET",
          "CT_BET",
          "CTbet_Docker",
          "Brainchop",
          "HD-CTBET",
          "SynthStrip",
          "CTBET",
          "Robust-CTBET",
          "CT_BET",
          "CTbet_Docker",
          "Brainchop",
          "HD-CTBET",
          "SynthStrip",
          "CTBET",
          "Robust-CTBET",
          "CT_BET",
          "CTbet_Docker",
          "Brainchop",
          "HD-CTBET",
          "SynthStrip",
          "CTBET",
          "Robust-CTBET",
          "CTbet_Docker",
          "Brainchop",
          "HD-CTBET",
          "SynthStrip",
          "CTBET",
          "Robust-CTBET",
          "CTbet_Docker",
          "Brainchop",
          "HD-CTBET",
          "SynthStrip",
          "CTBET",
          "Robust-CTBET",
          "CT_BET",
          "CTbet_Docker",
          "Brainchop",
          "HD-CTBET",
          "SynthStrip",
          "CTBET",
          "Robust-CTBET",
          "CT_BET",
          "CTbet_Docker",
          "Brainchop",
          "HD-CTBET",
          "SynthStrip",
          "CTBET",
          "Robust-CTBET",
          "CT_BET",
          "CTbet_Docker",
          "Brainchop",
          "HD-CTBET",
          "SynthStrip",
          "CTBET",
          "Robust-CTBET",
          "CT_BET",
          "CTbet_Docker"
         ],
         "y": {
          "bdata": "HVpkO99P6T8xCKwcWmTrP3npJjEIrOg/d76fGi/d7D97FK5H4XrsP7pJDAIrh+4/kxgEVg4t7j+e76fGSzftPxsv3SQGge0/JzEIrBxa4D89CtejcD3uP5qZmZmZme0/tMh2vp8a7z93vp8aL93sP1CNl24Sg+w/WmQ730+N6z+amZmZmZntP5ZDi2zn++0/LbKd76fG6z/ByqFFtvPtP8l2vp8aL+k/NV66SQwC6z+uR+F6FK7jP39qvHSTGOw/rBxaZDvf6z/jpZvEILDuP7gehetRuO4/okW28/3U7D9QjZduEoPsP9ejcD0K1+s/Di2yne+n7j+Nl24Sg8DuP+Olm8QgsO4/3SQGgZVD6z+q8dJNYhDsPzEIrBxaZOs/EFg5tMh27j/jpZvEILDuP8dLN4lBYO0/L90kBoGV6z/RItv5fmrsP4PAyqFFtus/CtejcD0K7z+0yHa+nxrvP3E9CtejcO0/aJHtfD817j8K16NwPQrrP30/NV66Sew/QmDl0CLb4T8OLbKd76fuP+F6FK5H4e4/hetRuB6F6z+6SQwCK4fuP8/3U+Olm+w/nMQgsHJo7T9MN4lBYOXsPzvfT42Xbu4/EFg5tMh27j+YbhKDwMrtPzVeukkMAu8/bxKDwMqh7T/ufD81XrrtP6AaL90kBu0/5dAi2/l+5j+4HoXrUbjuP/Cnxks3ie0/ke18PzVe7j8=",
          "dtype": "f8"
         }
        }
       ],
       "layout": {
        "boxmode": "group",
        "font": {
         "size": 13
        },
        "height": 600,
        "legend": {
         "orientation": "h",
         "title": {},
         "x": 0,
         "xanchor": "left",
         "y": 1.02,
         "yanchor": "bottom"
        },
        "margin": {
         "b": 50,
         "l": 60,
         "r": 30,
         "t": 60
        },
        "template": {
         "data": {
          "bar": [
           {
            "error_x": {
             "color": "#2a3f5f"
            },
            "error_y": {
             "color": "#2a3f5f"
            },
            "marker": {
             "line": {
              "color": "#E5ECF6",
              "width": 0.5
             },
             "pattern": {
              "fillmode": "overlay",
              "size": 10,
              "solidity": 0.2
             }
            },
            "type": "bar"
           }
          ],
          "barpolar": [
           {
            "marker": {
             "line": {
              "color": "#E5ECF6",
              "width": 0.5
             },
             "pattern": {
              "fillmode": "overlay",
              "size": 10,
              "solidity": 0.2
             }
            },
            "type": "barpolar"
           }
          ],
          "carpet": [
           {
            "aaxis": {
             "endlinecolor": "#2a3f5f",
             "gridcolor": "white",
             "linecolor": "white",
             "minorgridcolor": "white",
             "startlinecolor": "#2a3f5f"
            },
            "baxis": {
             "endlinecolor": "#2a3f5f",
             "gridcolor": "white",
             "linecolor": "white",
             "minorgridcolor": "white",
             "startlinecolor": "#2a3f5f"
            },
            "type": "carpet"
           }
          ],
          "choropleth": [
           {
            "colorbar": {
             "outlinewidth": 0,
             "ticks": ""
            },
            "type": "choropleth"
           }
          ],
          "contour": [
           {
            "colorbar": {
             "outlinewidth": 0,
             "ticks": ""
            },
            "colorscale": [
             [
              0,
              "#0d0887"
             ],
             [
              0.1111111111111111,
              "#46039f"
             ],
             [
              0.2222222222222222,
              "#7201a8"
             ],
             [
              0.3333333333333333,
              "#9c179e"
             ],
             [
              0.4444444444444444,
              "#bd3786"
             ],
             [
              0.5555555555555556,
              "#d8576b"
             ],
             [
              0.6666666666666666,
              "#ed7953"
             ],
             [
              0.7777777777777778,
              "#fb9f3a"
             ],
             [
              0.8888888888888888,
              "#fdca26"
             ],
             [
              1,
              "#f0f921"
             ]
            ],
            "type": "contour"
           }
          ],
          "contourcarpet": [
           {
            "colorbar": {
             "outlinewidth": 0,
             "ticks": ""
            },
            "type": "contourcarpet"
           }
          ],
          "heatmap": [
           {
            "colorbar": {
             "outlinewidth": 0,
             "ticks": ""
            },
            "colorscale": [
             [
              0,
              "#0d0887"
             ],
             [
              0.1111111111111111,
              "#46039f"
             ],
             [
              0.2222222222222222,
              "#7201a8"
             ],
             [
              0.3333333333333333,
              "#9c179e"
             ],
             [
              0.4444444444444444,
              "#bd3786"
             ],
             [
              0.5555555555555556,
              "#d8576b"
             ],
             [
              0.6666666666666666,
              "#ed7953"
             ],
             [
              0.7777777777777778,
              "#fb9f3a"
             ],
             [
              0.8888888888888888,
              "#fdca26"
             ],
             [
              1,
              "#f0f921"
             ]
            ],
            "type": "heatmap"
           }
          ],
          "histogram": [
           {
            "marker": {
             "pattern": {
              "fillmode": "overlay",
              "size": 10,
              "solidity": 0.2
             }
            },
            "type": "histogram"
           }
          ],
          "histogram2d": [
           {
            "colorbar": {
             "outlinewidth": 0,
             "ticks": ""
            },
            "colorscale": [
             [
              0,
              "#0d0887"
             ],
             [
              0.1111111111111111,
              "#46039f"
             ],
             [
              0.2222222222222222,
              "#7201a8"
             ],
             [
              0.3333333333333333,
              "#9c179e"
             ],
             [
              0.4444444444444444,
              "#bd3786"
             ],
             [
              0.5555555555555556,
              "#d8576b"
             ],
             [
              0.6666666666666666,
              "#ed7953"
             ],
             [
              0.7777777777777778,
              "#fb9f3a"
             ],
             [
              0.8888888888888888,
              "#fdca26"
             ],
             [
              1,
              "#f0f921"
             ]
            ],
            "type": "histogram2d"
           }
          ],
          "histogram2dcontour": [
           {
            "colorbar": {
             "outlinewidth": 0,
             "ticks": ""
            },
            "colorscale": [
             [
              0,
              "#0d0887"
             ],
             [
              0.1111111111111111,
              "#46039f"
             ],
             [
              0.2222222222222222,
              "#7201a8"
             ],
             [
              0.3333333333333333,
              "#9c179e"
             ],
             [
              0.4444444444444444,
              "#bd3786"
             ],
             [
              0.5555555555555556,
              "#d8576b"
             ],
             [
              0.6666666666666666,
              "#ed7953"
             ],
             [
              0.7777777777777778,
              "#fb9f3a"
             ],
             [
              0.8888888888888888,
              "#fdca26"
             ],
             [
              1,
              "#f0f921"
             ]
            ],
            "type": "histogram2dcontour"
           }
          ],
          "mesh3d": [
           {
            "colorbar": {
             "outlinewidth": 0,
             "ticks": ""
            },
            "type": "mesh3d"
           }
          ],
          "parcoords": [
           {
            "line": {
             "colorbar": {
              "outlinewidth": 0,
              "ticks": ""
             }
            },
            "type": "parcoords"
           }
          ],
          "pie": [
           {
            "automargin": true,
            "type": "pie"
           }
          ],
          "scatter": [
           {
            "fillpattern": {
             "fillmode": "overlay",
             "size": 10,
             "solidity": 0.2
            },
            "type": "scatter"
           }
          ],
          "scatter3d": [
           {
            "line": {
             "colorbar": {
              "outlinewidth": 0,
              "ticks": ""
             }
            },
            "marker": {
             "colorbar": {
              "outlinewidth": 0,
              "ticks": ""
             }
            },
            "type": "scatter3d"
           }
          ],
          "scattercarpet": [
           {
            "marker": {
             "colorbar": {
              "outlinewidth": 0,
              "ticks": ""
             }
            },
            "type": "scattercarpet"
           }
          ],
          "scattergeo": [
           {
            "marker": {
             "colorbar": {
              "outlinewidth": 0,
              "ticks": ""
             }
            },
            "type": "scattergeo"
           }
          ],
          "scattergl": [
           {
            "marker": {
             "colorbar": {
              "outlinewidth": 0,
              "ticks": ""
             }
            },
            "type": "scattergl"
           }
          ],
          "scattermap": [
           {
            "marker": {
             "colorbar": {
              "outlinewidth": 0,
              "ticks": ""
             }
            },
            "type": "scattermap"
           }
          ],
          "scattermapbox": [
           {
            "marker": {
             "colorbar": {
              "outlinewidth": 0,
              "ticks": ""
             }
            },
            "type": "scattermapbox"
           }
          ],
          "scatterpolar": [
           {
            "marker": {
             "colorbar": {
              "outlinewidth": 0,
              "ticks": ""
             }
            },
            "type": "scatterpolar"
           }
          ],
          "scatterpolargl": [
           {
            "marker": {
             "colorbar": {
              "outlinewidth": 0,
              "ticks": ""
             }
            },
            "type": "scatterpolargl"
           }
          ],
          "scatterternary": [
           {
            "marker": {
             "colorbar": {
              "outlinewidth": 0,
              "ticks": ""
             }
            },
            "type": "scatterternary"
           }
          ],
          "surface": [
           {
            "colorbar": {
             "outlinewidth": 0,
             "ticks": ""
            },
            "colorscale": [
             [
              0,
              "#0d0887"
             ],
             [
              0.1111111111111111,
              "#46039f"
             ],
             [
              0.2222222222222222,
              "#7201a8"
             ],
             [
              0.3333333333333333,
              "#9c179e"
             ],
             [
              0.4444444444444444,
              "#bd3786"
             ],
             [
              0.5555555555555556,
              "#d8576b"
             ],
             [
              0.6666666666666666,
              "#ed7953"
             ],
             [
              0.7777777777777778,
              "#fb9f3a"
             ],
             [
              0.8888888888888888,
              "#fdca26"
             ],
             [
              1,
              "#f0f921"
             ]
            ],
            "type": "surface"
           }
          ],
          "table": [
           {
            "cells": {
             "fill": {
              "color": "#EBF0F8"
             },
             "line": {
              "color": "white"
             }
            },
            "header": {
             "fill": {
              "color": "#C8D4E3"
             },
             "line": {
              "color": "white"
             }
            },
            "type": "table"
           }
          ]
         },
         "layout": {
          "annotationdefaults": {
           "arrowcolor": "#2a3f5f",
           "arrowhead": 0,
           "arrowwidth": 1
          },
          "autotypenumbers": "strict",
          "coloraxis": {
           "colorbar": {
            "outlinewidth": 0,
            "ticks": ""
           }
          },
          "colorscale": {
           "diverging": [
            [
             0,
             "#8e0152"
            ],
            [
             0.1,
             "#c51b7d"
            ],
            [
             0.2,
             "#de77ae"
            ],
            [
             0.3,
             "#f1b6da"
            ],
            [
             0.4,
             "#fde0ef"
            ],
            [
             0.5,
             "#f7f7f7"
            ],
            [
             0.6,
             "#e6f5d0"
            ],
            [
             0.7,
             "#b8e186"
            ],
            [
             0.8,
             "#7fbc41"
            ],
            [
             0.9,
             "#4d9221"
            ],
            [
             1,
             "#276419"
            ]
           ],
           "sequential": [
            [
             0,
             "#0d0887"
            ],
            [
             0.1111111111111111,
             "#46039f"
            ],
            [
             0.2222222222222222,
             "#7201a8"
            ],
            [
             0.3333333333333333,
             "#9c179e"
            ],
            [
             0.4444444444444444,
             "#bd3786"
            ],
            [
             0.5555555555555556,
             "#d8576b"
            ],
            [
             0.6666666666666666,
             "#ed7953"
            ],
            [
             0.7777777777777778,
             "#fb9f3a"
            ],
            [
             0.8888888888888888,
             "#fdca26"
            ],
            [
             1,
             "#f0f921"
            ]
           ],
           "sequentialminus": [
            [
             0,
             "#0d0887"
            ],
            [
             0.1111111111111111,
             "#46039f"
            ],
            [
             0.2222222222222222,
             "#7201a8"
            ],
            [
             0.3333333333333333,
             "#9c179e"
            ],
            [
             0.4444444444444444,
             "#bd3786"
            ],
            [
             0.5555555555555556,
             "#d8576b"
            ],
            [
             0.6666666666666666,
             "#ed7953"
            ],
            [
             0.7777777777777778,
             "#fb9f3a"
            ],
            [
             0.8888888888888888,
             "#fdca26"
            ],
            [
             1,
             "#f0f921"
            ]
           ]
          },
          "colorway": [
           "#636efa",
           "#EF553B",
           "#00cc96",
           "#ab63fa",
           "#FFA15A",
           "#19d3f3",
           "#FF6692",
           "#B6E880",
           "#FF97FF",
           "#FECB52"
          ],
          "font": {
           "color": "#2a3f5f"
          },
          "geo": {
           "bgcolor": "white",
           "lakecolor": "white",
           "landcolor": "#E5ECF6",
           "showlakes": true,
           "showland": true,
           "subunitcolor": "white"
          },
          "hoverlabel": {
           "align": "left"
          },
          "hovermode": "closest",
          "mapbox": {
           "style": "light"
          },
          "paper_bgcolor": "white",
          "plot_bgcolor": "#E5ECF6",
          "polar": {
           "angularaxis": {
            "gridcolor": "white",
            "linecolor": "white",
            "ticks": ""
           },
           "bgcolor": "#E5ECF6",
           "radialaxis": {
            "gridcolor": "white",
            "linecolor": "white",
            "ticks": ""
           }
          },
          "scene": {
           "xaxis": {
            "backgroundcolor": "#E5ECF6",
            "gridcolor": "white",
            "gridwidth": 2,
            "linecolor": "white",
            "showbackground": true,
            "ticks": "",
            "zerolinecolor": "white"
           },
           "yaxis": {
            "backgroundcolor": "#E5ECF6",
            "gridcolor": "white",
            "gridwidth": 2,
            "linecolor": "white",
            "showbackground": true,
            "ticks": "",
            "zerolinecolor": "white"
           },
           "zaxis": {
            "backgroundcolor": "#E5ECF6",
            "gridcolor": "white",
            "gridwidth": 2,
            "linecolor": "white",
            "showbackground": true,
            "ticks": "",
            "zerolinecolor": "white"
           }
          },
          "shapedefaults": {
           "line": {
            "color": "#2a3f5f"
           }
          },
          "ternary": {
           "aaxis": {
            "gridcolor": "white",
            "linecolor": "white",
            "ticks": ""
           },
           "baxis": {
            "gridcolor": "white",
            "linecolor": "white",
            "ticks": ""
           },
           "bgcolor": "#E5ECF6",
           "caxis": {
            "gridcolor": "white",
            "linecolor": "white",
            "ticks": ""
           }
          },
          "title": {
           "x": 0.05
          },
          "xaxis": {
           "automargin": true,
           "gridcolor": "white",
           "linecolor": "white",
           "ticks": "",
           "title": {
            "standoff": 15
           },
           "zerolinecolor": "white",
           "zerolinewidth": 2
          },
          "yaxis": {
           "automargin": true,
           "gridcolor": "white",
           "linecolor": "white",
           "ticks": "",
           "title": {
            "standoff": 15
           },
           "zerolinecolor": "white",
           "zerolinewidth": 2
          }
         }
        },
        "width": 1100,
        "xaxis": {
         "categoryarray": [
          "Brainchop",
          "CTBET",
          "CT_BET",
          "CTbet_Docker",
          "HD-CTBET",
          "Robust-CTBET",
          "SynthStrip"
         ],
         "categoryorder": "array",
         "tickmode": "array",
         "ticktext": [
          "Brainchop",
          "CTBET",
          "CT_BET",
          "CTbet_Docker",
          "HD-CTBET",
          "Robust-CTBET",
          "SynthStrip"
         ],
         "tickvals": [
          "Brainchop",
          "CTBET",
          "CT_BET",
          "CTbet_Docker",
          "HD-CTBET",
          "Robust-CTBET",
          "SynthStrip"
         ],
         "title": {
          "text": "Method"
         }
        },
        "yaxis": {
         "title": {
          "text": "IoU"
         }
        }
       }
      }
     },
     "metadata": {},
     "output_type": "display_data"
    }
   ],
   "source": [
    "import plotly.graph_objects as go\n",
    "import plotly.express as px\n",
    "\n",
    "datasets = sorted(all_df['Dataset'].unique())\n",
    "methods  = sorted(all_df['method_A'].unique())\n",
    "\n",
    "# Custom dark, color-blind friendly colors per dataset\n",
    "# Explicit mapping for reproducibility; extend if new datasets appear.\n",
    "custom_dataset_colors = {\n",
    "    'JH_Head_CT': '#264653',        # dark teal\n",
    "    'CERMEP-IDB-MRXFDG': '#6a4c93', # dark purple\n",
    "    'MISTIE_III': '#b23a48',        # deep wine red\n",
    "}\n",
    "# Fallback palette (Dark2) for any dataset not in the explicit map\n",
    "fallback_colors = px.colors.qualitative.Dark2\n",
    "for i, ds in enumerate(datasets):\n",
    "    if ds not in custom_dataset_colors:\n",
    "        custom_dataset_colors[ds] = fallback_colors[i % len(fallback_colors)]\n",
    "\n",
    "fig = go.Figure()\n",
    "\n",
    "# One trace per dataset; Plotly groups by x (method)\n",
    "for ds in datasets:\n",
    "    d = all_df[all_df['Dataset'] == ds]\n",
    "    if d.empty:\n",
    "        continue\n",
    "    fig.add_trace(go.Box(\n",
    "        x=d['method_A'],                # categories = methods\n",
    "        y=d['iou'],\n",
    "        name=ds,                        # legend per dataset\n",
    "        marker_color=custom_dataset_colors[ds],\n",
    "        boxpoints='outliers',\n",
    "        jitter=0,\n",
    "        pointpos=0,\n",
    "        legendgroup=ds,\n",
    "        offsetgroup=ds,                 # group within each method\n",
    "        alignmentgroup='all',\n",
    "        hovertemplate='Dataset: '+ds+'<br>Method: %{x}<br>IoU: %{y:.3f}<extra></extra>'\n",
    "    ))\n",
    "\n",
    "fig.update_layout(\n",
    "    boxmode='group',\n",
    "    width=1100, height=600,\n",
    "    margin=dict(l=60, r=30, t=60, b=50),\n",
    "    legend=dict(orientation='h', yanchor='bottom', y=1.02, xanchor='left', x=0, title=None),\n",
    "    font=dict(size=13)\n",
    ")\n",
    "fig.update_xaxes(title_text='Method',\n",
    "                 categoryorder='array', categoryarray=methods, tickmode='array',\n",
    "                 tickvals=methods, ticktext=methods)\n",
    "fig.update_yaxes(title_text='IoU')\n",
    "\n",
    "fig.show()"
   ]
  },
  {
   "cell_type": "code",
   "execution_count": 13,
   "id": "fd1a1be7",
   "metadata": {},
   "outputs": [
    {
     "data": {
      "application/vnd.plotly.v1+json": {
       "config": {
        "plotlyServerURL": "https://plot.ly"
       },
       "data": [
        {
         "alignmentgroup": "all",
         "boxpoints": "outliers",
         "hovertemplate": "Dataset: CERMEP-IDB-MRXFDG<br>Method: %{x}<br>ICV Ratio: %{y:.3f}<extra></extra>",
         "jitter": 0,
         "legendgroup": "CERMEP-IDB-MRXFDG",
         "marker": {
          "color": "#6a4c93"
         },
         "name": "CERMEP-IDB-MRXFDG",
         "offsetgroup": "CERMEP-IDB-MRXFDG",
         "pointpos": 0,
         "type": "box",
         "x": [
          "Brainchop",
          "HD-CTBET",
          "SynthStrip",
          "CTBET",
          "Robust-CTBET",
          "CT_BET",
          "CTbet_Docker",
          "Brainchop",
          "HD-CTBET",
          "SynthStrip",
          "CTBET",
          "Robust-CTBET",
          "CT_BET",
          "CTbet_Docker",
          "Brainchop",
          "HD-CTBET",
          "SynthStrip",
          "CTBET",
          "Robust-CTBET",
          "CT_BET",
          "CTbet_Docker",
          "Brainchop",
          "HD-CTBET",
          "SynthStrip",
          "CTBET",
          "Robust-CTBET",
          "CT_BET",
          "CTbet_Docker",
          "Brainchop",
          "HD-CTBET",
          "SynthStrip",
          "CTBET",
          "Robust-CTBET",
          "CT_BET",
          "CTbet_Docker",
          "Brainchop",
          "HD-CTBET",
          "SynthStrip",
          "CTBET",
          "Robust-CTBET",
          "CT_BET",
          "CTbet_Docker",
          "Brainchop",
          "HD-CTBET",
          "SynthStrip",
          "CTBET",
          "Robust-CTBET",
          "CT_BET",
          "CTbet_Docker",
          "Brainchop",
          "HD-CTBET",
          "SynthStrip",
          "CTBET",
          "Robust-CTBET",
          "CT_BET",
          "CTbet_Docker",
          "Brainchop",
          "HD-CTBET",
          "SynthStrip",
          "CTBET",
          "Robust-CTBET",
          "CT_BET",
          "CTbet_Docker",
          "Brainchop",
          "HD-CTBET",
          "SynthStrip",
          "CTBET",
          "Robust-CTBET",
          "CT_BET",
          "CTbet_Docker",
          "Brainchop",
          "HD-CTBET",
          "SynthStrip",
          "CTBET",
          "Robust-CTBET",
          "CT_BET",
          "CTbet_Docker",
          "Brainchop",
          "HD-CTBET",
          "SynthStrip",
          "CTBET",
          "Robust-CTBET",
          "CT_BET",
          "CTbet_Docker",
          "Brainchop",
          "HD-CTBET",
          "SynthStrip",
          "CTBET",
          "Robust-CTBET",
          "CT_BET",
          "CTbet_Docker",
          "Brainchop",
          "HD-CTBET",
          "SynthStrip",
          "CTBET",
          "Robust-CTBET",
          "CT_BET",
          "CTbet_Docker",
          "Brainchop",
          "HD-CTBET",
          "SynthStrip",
          "CTBET",
          "Robust-CTBET",
          "CT_BET",
          "CTbet_Docker",
          "Brainchop",
          "HD-CTBET",
          "SynthStrip",
          "CTBET",
          "Robust-CTBET",
          "CT_BET",
          "CTbet_Docker",
          "Brainchop",
          "HD-CTBET",
          "SynthStrip",
          "CTBET",
          "Robust-CTBET",
          "CT_BET",
          "CTbet_Docker",
          "Brainchop",
          "HD-CTBET",
          "SynthStrip",
          "CTBET",
          "Robust-CTBET",
          "CT_BET",
          "CTbet_Docker",
          "Brainchop",
          "HD-CTBET",
          "SynthStrip",
          "CTBET",
          "Robust-CTBET",
          "CT_BET",
          "CTbet_Docker",
          "Brainchop",
          "HD-CTBET",
          "SynthStrip",
          "CTBET",
          "Robust-CTBET",
          "CT_BET",
          "CTbet_Docker"
         ],
         "y": {
          "bdata": "yV9Zz/Mn8D/jlOAEqYPwPzjFdGQ+OvE/PQhK9Y7A9T9GiJEN6QrvPz1+WwHZE+8/WU18wXSM7z+JGAljD77wP8kPCq12xPA/amgIm1zz8T/uzu054QPzP9xCD3cWNPA/OZ37RMwj8D8bYMC1h5fwP4ZxQK75QPE/4hJZlsjz8D+Bo4o3HR/yP5nXEZTHY/0/5EufCHfm9D+3b9SROObwP3Rbc2ONjPI/WOTwhk3m8D+sBTBkcqnwPyOziZL9LPI/qPvzD4fC+j8+NvHEHkTwP381KUN/N/A/tKrVG8FQ8T97Gw4sdB3xP48WSVl2GvE/Zbm5qMnY8T9RHokDdA4AQNixsapkUu8/xyg5HBTa7z/9RQZQSjP0P2xGT0CST/E/fdhtJvgb8T+o2teDjP7xP/V3bvPAE/0/oaRQBvr2+j9p6lvecYHwP9ZHiexAMfE/8Mi0/xib8D//Nd/lnKPwP/FkFlbI9PE/QPPWKKDa8D/85LyzgrTvPzhQhgPVZO8/2iml9Ug68D9yMbmLyjvwPwtX7Vpdo/A/DsW968NH8T80EKrTLQDsP0qZq24aJu8/E93291uO7z/WE20+7G7wP+c94HeI7e8/uK8E0Nbx8D+aIsKU3VTxPyJJtuX7nPA/MupPdWUk7z858IKsTVHvP5MmfpvU2O8/CP61rUMd8z/QublfBTHxPyfxX+4aBPI/QyI+AdNx/j+VV8nShmLyP+nRO3p1EPE/RXT7Fjcx8j8/SanpMm/wPxr8L/H6xvA/toX8hxK/8T+y/Ed9WDjyPwslP0WcIfA/JhgYyOUP8D+rYdbzk2bwPw9wKchpavA/qEMhRHvI8D/vN+tg283xP8VObaiuDPA/UfP5MXj57z/zz9TZ6ijwPxdiZivRT/A/+cMRhE008T/alKy4wHjxP47xbiul+PE/zaTEocYc+z+1xt3TG1PwPxhHKkurfPA/IQSLopxM8T8prVG4ZADxPyyT5tKaQ/E/QW6IDh058j8LZgFL1PjSP2MhZOAdhvA/j2NMyLcp8D+Qf+rD9vTwP2BgDC0/I/A/zTIhFEBL8T+NPBM7ucjxP3Hiyaa3l/I/mHKmSv2y9z/p+S9bOU7wP6RBikXB8/A/2FRozJiY8T+APrZ5QWrxPzB2UjzlS/I/RrVd6TB59z/gKo5H8WnwPwq0L8zfYvA/lPqzfFft8D8MpcIySLDxP2WlEEXAuPE/uSXoMSU/8j/Rl9MC36/3PyEVctKW8PA/Aveblvj28D8/nnC1gqHxP6AcZe05RfA/huVYSBi58D9ExCBeeGbxP3C3tTNME/s/9QSVgsiF7z8Z71yrdm/vP213u+VkwfA/Y09Zl+1T7j/uSPoseq7wPzznsRXaZ/E/KuK5X9le7D9sNkJdD3jvP6CoNPMe9e8/PvR/p3UX8D+HQ8ixQ+3wP8IQDmAEn/A/3g39dnHr8T9ANTC3+k/5P/CG0J82re8/ZHobzda17z8+7WaKqPDwPw==",
          "dtype": "f8"
         }
        },
        {
         "alignmentgroup": "all",
         "boxpoints": "outliers",
         "hovertemplate": "Dataset: JH_Head_CT<br>Method: %{x}<br>ICV Ratio: %{y:.3f}<extra></extra>",
         "jitter": 0,
         "legendgroup": "JH_Head_CT",
         "marker": {
          "color": "#264653"
         },
         "name": "JH_Head_CT",
         "offsetgroup": "JH_Head_CT",
         "pointpos": 0,
         "type": "box",
         "x": [
          "Brainchop",
          "HD-CTBET",
          "SynthStrip",
          "CTBET",
          "Robust-CTBET",
          "CT_BET",
          "CTbet_Docker",
          "Brainchop",
          "HD-CTBET",
          "SynthStrip",
          "CTBET",
          "Robust-CTBET",
          "CT_BET",
          "CTbet_Docker",
          "Brainchop",
          "HD-CTBET",
          "SynthStrip",
          "CTBET",
          "Robust-CTBET",
          "CTbet_Docker",
          "Brainchop",
          "HD-CTBET",
          "SynthStrip",
          "CTBET",
          "Robust-CTBET",
          "CT_BET",
          "CTbet_Docker",
          "Brainchop",
          "HD-CTBET",
          "SynthStrip",
          "CTBET",
          "Robust-CTBET",
          "CTbet_Docker",
          "Brainchop",
          "HD-CTBET",
          "SynthStrip",
          "CTBET",
          "Robust-CTBET",
          "CT_BET",
          "CTbet_Docker",
          "Brainchop",
          "HD-CTBET",
          "SynthStrip",
          "CTBET",
          "Robust-CTBET",
          "CTbet_Docker",
          "Brainchop",
          "HD-CTBET",
          "SynthStrip",
          "CTBET",
          "Robust-CTBET",
          "CTbet_Docker",
          "Brainchop",
          "HD-CTBET",
          "SynthStrip",
          "CTBET",
          "Robust-CTBET",
          "CT_BET",
          "CTbet_Docker",
          "Brainchop",
          "HD-CTBET",
          "SynthStrip",
          "CTBET",
          "Robust-CTBET",
          "CTbet_Docker",
          "Brainchop",
          "HD-CTBET",
          "SynthStrip",
          "CTBET",
          "Robust-CTBET",
          "CTbet_Docker",
          "Brainchop",
          "HD-CTBET",
          "SynthStrip",
          "CTBET",
          "Robust-CTBET",
          "CTbet_Docker",
          "Brainchop",
          "HD-CTBET",
          "SynthStrip",
          "CTBET",
          "Robust-CTBET",
          "CTbet_Docker",
          "Brainchop",
          "HD-CTBET",
          "SynthStrip",
          "CTBET",
          "Robust-CTBET",
          "CT_BET",
          "CTbet_Docker",
          "Brainchop",
          "HD-CTBET",
          "SynthStrip",
          "CTBET",
          "Robust-CTBET",
          "CTbet_Docker",
          "Brainchop",
          "HD-CTBET",
          "SynthStrip",
          "CTBET",
          "Robust-CTBET",
          "CTbet_Docker",
          "Brainchop",
          "HD-CTBET",
          "SynthStrip",
          "CTBET",
          "Robust-CTBET",
          "CT_BET",
          "CTbet_Docker",
          "Brainchop",
          "HD-CTBET",
          "SynthStrip",
          "CTBET",
          "Robust-CTBET",
          "CTbet_Docker",
          "Brainchop",
          "HD-CTBET",
          "SynthStrip",
          "CTBET",
          "Robust-CTBET",
          "CT_BET",
          "CTbet_Docker",
          "Brainchop",
          "HD-CTBET",
          "SynthStrip",
          "CTBET",
          "Robust-CTBET",
          "CT_BET",
          "CTbet_Docker",
          "Brainchop",
          "HD-CTBET",
          "SynthStrip",
          "CTBET",
          "Robust-CTBET",
          "CT_BET",
          "CTbet_Docker",
          "Brainchop",
          "HD-CTBET",
          "SynthStrip",
          "CTBET",
          "Robust-CTBET",
          "CTbet_Docker",
          "Brainchop",
          "HD-CTBET",
          "SynthStrip",
          "CTBET",
          "Robust-CTBET",
          "CTbet_Docker",
          "Brainchop",
          "HD-CTBET",
          "SynthStrip",
          "CTBET",
          "Robust-CTBET",
          "CTbet_Docker",
          "Brainchop",
          "HD-CTBET",
          "SynthStrip",
          "CTBET",
          "Robust-CTBET",
          "CTbet_Docker",
          "Brainchop",
          "HD-CTBET",
          "SynthStrip",
          "CTBET",
          "Robust-CTBET",
          "CT_BET",
          "CTbet_Docker",
          "Brainchop",
          "HD-CTBET",
          "SynthStrip",
          "CTBET",
          "Robust-CTBET",
          "CTbet_Docker",
          "Brainchop",
          "HD-CTBET",
          "SynthStrip",
          "CTBET",
          "Robust-CTBET",
          "CTbet_Docker",
          "Brainchop",
          "HD-CTBET",
          "SynthStrip",
          "CTBET",
          "Robust-CTBET",
          "CT_BET",
          "CTbet_Docker",
          "Brainchop",
          "HD-CTBET",
          "SynthStrip",
          "CTBET",
          "Robust-CTBET",
          "CTbet_Docker",
          "Brainchop",
          "HD-CTBET",
          "SynthStrip",
          "CTBET",
          "Robust-CTBET",
          "CT_BET",
          "CTbet_Docker",
          "Brainchop",
          "HD-CTBET",
          "SynthStrip",
          "CTBET",
          "Robust-CTBET",
          "CTbet_Docker",
          "Brainchop",
          "HD-CTBET",
          "SynthStrip",
          "CTBET",
          "Robust-CTBET",
          "CTbet_Docker",
          "Brainchop",
          "HD-CTBET",
          "SynthStrip",
          "CTBET",
          "Robust-CTBET",
          "CT_BET",
          "CTbet_Docker",
          "Brainchop",
          "HD-CTBET",
          "SynthStrip",
          "CTBET",
          "Robust-CTBET",
          "CTbet_Docker"
         ],
         "y": {
          "bdata": "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",
          "dtype": "f8"
         }
        },
        {
         "alignmentgroup": "all",
         "boxpoints": "outliers",
         "hovertemplate": "Dataset: MISTIE_III<br>Method: %{x}<br>ICV Ratio: %{y:.3f}<extra></extra>",
         "jitter": 0,
         "legendgroup": "MISTIE_III",
         "marker": {
          "color": "#b23a48"
         },
         "name": "MISTIE_III",
         "offsetgroup": "MISTIE_III",
         "pointpos": 0,
         "type": "box",
         "x": [
          "Brainchop",
          "HD-CTBET",
          "SynthStrip",
          "CTBET",
          "Robust-CTBET",
          "CTbet_Docker",
          "Brainchop",
          "HD-CTBET",
          "SynthStrip",
          "CTBET",
          "Robust-CTBET",
          "CT_BET",
          "CTbet_Docker",
          "Brainchop",
          "HD-CTBET",
          "SynthStrip",
          "CTBET",
          "Robust-CTBET",
          "CT_BET",
          "CTbet_Docker",
          "Brainchop",
          "HD-CTBET",
          "SynthStrip",
          "CTBET",
          "Robust-CTBET",
          "CT_BET",
          "CTbet_Docker",
          "Brainchop",
          "HD-CTBET",
          "SynthStrip",
          "CTBET",
          "Robust-CTBET",
          "CTbet_Docker",
          "Brainchop",
          "HD-CTBET",
          "SynthStrip",
          "CTBET",
          "Robust-CTBET",
          "CTbet_Docker",
          "Brainchop",
          "HD-CTBET",
          "SynthStrip",
          "CTBET",
          "Robust-CTBET",
          "CT_BET",
          "CTbet_Docker",
          "Brainchop",
          "HD-CTBET",
          "SynthStrip",
          "CTBET",
          "Robust-CTBET",
          "CT_BET",
          "CTbet_Docker",
          "Brainchop",
          "HD-CTBET",
          "SynthStrip",
          "CTBET",
          "Robust-CTBET",
          "CT_BET",
          "CTbet_Docker",
          "Brainchop",
          "HD-CTBET",
          "SynthStrip",
          "CTBET",
          "Robust-CTBET",
          "CT_BET",
          "CTbet_Docker"
         ],
         "y": {
          "bdata": "0DFizePk8j8qHxNQAK7wPxkG3fj10PM/Ihgu6Da+7j8KZowk/xHuP0iDZjyRt/A/yckS52m78D8+lacvylTxP60axrZmS/E/CWuoYggB/z/ZoTSH47bwPw5oEF4FdfA/GMKBbN5q8D8nEbLiyxrwP3yD/x3TcvE/Rt+nHbry8D9nFcM4jyrxP7fL/P7G6vA/VrsER3si7T/S1ZsyOrbwP8ScTOZwJvE/T1fVzspE8j8VB6Iue6PsP+lR4GD1yO4/vsmbemMu7j8itisULmnwP6LJjDjCmPA/cTqSxrW18D9JvaYIBkfxP0grK+PZsfA/QDPdSq4u8D8aKKVZShnwP+kpQl5dLPA//BkHUCBP7z90ezxjIeLvP+6NsMoEz+8/2X4JgMOW8D++qd3+oUPwPzK9wwxIE+8/k4eBND1C8D+y0SBo6JzxPyUUVChqC/I/1QcpMcV58D/QteH+1VfwPxTTSd6qgvA/u+htirsL8D/NGC2EdrHtP2ogLgA+rO4/f4/C2A7y4z/ffnXjS4TwPwh4xQdRV/A/Pbij9RJQ7D9CYGYluITvP3vVbp27j/E/e1cOjGTt8D+LCteycKzxP747AqSm4e4/Ue9altPL7j9qC8jHTyHuP/Gt3xHQ/e8/78zWyMZZ8D8nnVYEHOTwP4TkLfDxnvE/VM3TE7TR9T+V2+Ij6bXvPw3fzPkCH/A/nGZu7v5+8D8=",
          "dtype": "f8"
         }
        }
       ],
       "layout": {
        "boxmode": "group",
        "font": {
         "size": 13
        },
        "height": 600,
        "legend": {
         "orientation": "h",
         "title": {},
         "x": 0,
         "xanchor": "left",
         "y": 1.02,
         "yanchor": "bottom"
        },
        "margin": {
         "b": 50,
         "l": 60,
         "r": 30,
         "t": 60
        },
        "template": {
         "data": {
          "bar": [
           {
            "error_x": {
             "color": "#2a3f5f"
            },
            "error_y": {
             "color": "#2a3f5f"
            },
            "marker": {
             "line": {
              "color": "#E5ECF6",
              "width": 0.5
             },
             "pattern": {
              "fillmode": "overlay",
              "size": 10,
              "solidity": 0.2
             }
            },
            "type": "bar"
           }
          ],
          "barpolar": [
           {
            "marker": {
             "line": {
              "color": "#E5ECF6",
              "width": 0.5
             },
             "pattern": {
              "fillmode": "overlay",
              "size": 10,
              "solidity": 0.2
             }
            },
            "type": "barpolar"
           }
          ],
          "carpet": [
           {
            "aaxis": {
             "endlinecolor": "#2a3f5f",
             "gridcolor": "white",
             "linecolor": "white",
             "minorgridcolor": "white",
             "startlinecolor": "#2a3f5f"
            },
            "baxis": {
             "endlinecolor": "#2a3f5f",
             "gridcolor": "white",
             "linecolor": "white",
             "minorgridcolor": "white",
             "startlinecolor": "#2a3f5f"
            },
            "type": "carpet"
           }
          ],
          "choropleth": [
           {
            "colorbar": {
             "outlinewidth": 0,
             "ticks": ""
            },
            "type": "choropleth"
           }
          ],
          "contour": [
           {
            "colorbar": {
             "outlinewidth": 0,
             "ticks": ""
            },
            "colorscale": [
             [
              0,
              "#0d0887"
             ],
             [
              0.1111111111111111,
              "#46039f"
             ],
             [
              0.2222222222222222,
              "#7201a8"
             ],
             [
              0.3333333333333333,
              "#9c179e"
             ],
             [
              0.4444444444444444,
              "#bd3786"
             ],
             [
              0.5555555555555556,
              "#d8576b"
             ],
             [
              0.6666666666666666,
              "#ed7953"
             ],
             [
              0.7777777777777778,
              "#fb9f3a"
             ],
             [
              0.8888888888888888,
              "#fdca26"
             ],
             [
              1,
              "#f0f921"
             ]
            ],
            "type": "contour"
           }
          ],
          "contourcarpet": [
           {
            "colorbar": {
             "outlinewidth": 0,
             "ticks": ""
            },
            "type": "contourcarpet"
           }
          ],
          "heatmap": [
           {
            "colorbar": {
             "outlinewidth": 0,
             "ticks": ""
            },
            "colorscale": [
             [
              0,
              "#0d0887"
             ],
             [
              0.1111111111111111,
              "#46039f"
             ],
             [
              0.2222222222222222,
              "#7201a8"
             ],
             [
              0.3333333333333333,
              "#9c179e"
             ],
             [
              0.4444444444444444,
              "#bd3786"
             ],
             [
              0.5555555555555556,
              "#d8576b"
             ],
             [
              0.6666666666666666,
              "#ed7953"
             ],
             [
              0.7777777777777778,
              "#fb9f3a"
             ],
             [
              0.8888888888888888,
              "#fdca26"
             ],
             [
              1,
              "#f0f921"
             ]
            ],
            "type": "heatmap"
           }
          ],
          "histogram": [
           {
            "marker": {
             "pattern": {
              "fillmode": "overlay",
              "size": 10,
              "solidity": 0.2
             }
            },
            "type": "histogram"
           }
          ],
          "histogram2d": [
           {
            "colorbar": {
             "outlinewidth": 0,
             "ticks": ""
            },
            "colorscale": [
             [
              0,
              "#0d0887"
             ],
             [
              0.1111111111111111,
              "#46039f"
             ],
             [
              0.2222222222222222,
              "#7201a8"
             ],
             [
              0.3333333333333333,
              "#9c179e"
             ],
             [
              0.4444444444444444,
              "#bd3786"
             ],
             [
              0.5555555555555556,
              "#d8576b"
             ],
             [
              0.6666666666666666,
              "#ed7953"
             ],
             [
              0.7777777777777778,
              "#fb9f3a"
             ],
             [
              0.8888888888888888,
              "#fdca26"
             ],
             [
              1,
              "#f0f921"
             ]
            ],
            "type": "histogram2d"
           }
          ],
          "histogram2dcontour": [
           {
            "colorbar": {
             "outlinewidth": 0,
             "ticks": ""
            },
            "colorscale": [
             [
              0,
              "#0d0887"
             ],
             [
              0.1111111111111111,
              "#46039f"
             ],
             [
              0.2222222222222222,
              "#7201a8"
             ],
             [
              0.3333333333333333,
              "#9c179e"
             ],
             [
              0.4444444444444444,
              "#bd3786"
             ],
             [
              0.5555555555555556,
              "#d8576b"
             ],
             [
              0.6666666666666666,
              "#ed7953"
             ],
             [
              0.7777777777777778,
              "#fb9f3a"
             ],
             [
              0.8888888888888888,
              "#fdca26"
             ],
             [
              1,
              "#f0f921"
             ]
            ],
            "type": "histogram2dcontour"
           }
          ],
          "mesh3d": [
           {
            "colorbar": {
             "outlinewidth": 0,
             "ticks": ""
            },
            "type": "mesh3d"
           }
          ],
          "parcoords": [
           {
            "line": {
             "colorbar": {
              "outlinewidth": 0,
              "ticks": ""
             }
            },
            "type": "parcoords"
           }
          ],
          "pie": [
           {
            "automargin": true,
            "type": "pie"
           }
          ],
          "scatter": [
           {
            "fillpattern": {
             "fillmode": "overlay",
             "size": 10,
             "solidity": 0.2
            },
            "type": "scatter"
           }
          ],
          "scatter3d": [
           {
            "line": {
             "colorbar": {
              "outlinewidth": 0,
              "ticks": ""
             }
            },
            "marker": {
             "colorbar": {
              "outlinewidth": 0,
              "ticks": ""
             }
            },
            "type": "scatter3d"
           }
          ],
          "scattercarpet": [
           {
            "marker": {
             "colorbar": {
              "outlinewidth": 0,
              "ticks": ""
             }
            },
            "type": "scattercarpet"
           }
          ],
          "scattergeo": [
           {
            "marker": {
             "colorbar": {
              "outlinewidth": 0,
              "ticks": ""
             }
            },
            "type": "scattergeo"
           }
          ],
          "scattergl": [
           {
            "marker": {
             "colorbar": {
              "outlinewidth": 0,
              "ticks": ""
             }
            },
            "type": "scattergl"
           }
          ],
          "scattermap": [
           {
            "marker": {
             "colorbar": {
              "outlinewidth": 0,
              "ticks": ""
             }
            },
            "type": "scattermap"
           }
          ],
          "scattermapbox": [
           {
            "marker": {
             "colorbar": {
              "outlinewidth": 0,
              "ticks": ""
             }
            },
            "type": "scattermapbox"
           }
          ],
          "scatterpolar": [
           {
            "marker": {
             "colorbar": {
              "outlinewidth": 0,
              "ticks": ""
             }
            },
            "type": "scatterpolar"
           }
          ],
          "scatterpolargl": [
           {
            "marker": {
             "colorbar": {
              "outlinewidth": 0,
              "ticks": ""
             }
            },
            "type": "scatterpolargl"
           }
          ],
          "scatterternary": [
           {
            "marker": {
             "colorbar": {
              "outlinewidth": 0,
              "ticks": ""
             }
            },
            "type": "scatterternary"
           }
          ],
          "surface": [
           {
            "colorbar": {
             "outlinewidth": 0,
             "ticks": ""
            },
            "colorscale": [
             [
              0,
              "#0d0887"
             ],
             [
              0.1111111111111111,
              "#46039f"
             ],
             [
              0.2222222222222222,
              "#7201a8"
             ],
             [
              0.3333333333333333,
              "#9c179e"
             ],
             [
              0.4444444444444444,
              "#bd3786"
             ],
             [
              0.5555555555555556,
              "#d8576b"
             ],
             [
              0.6666666666666666,
              "#ed7953"
             ],
             [
              0.7777777777777778,
              "#fb9f3a"
             ],
             [
              0.8888888888888888,
              "#fdca26"
             ],
             [
              1,
              "#f0f921"
             ]
            ],
            "type": "surface"
           }
          ],
          "table": [
           {
            "cells": {
             "fill": {
              "color": "#EBF0F8"
             },
             "line": {
              "color": "white"
             }
            },
            "header": {
             "fill": {
              "color": "#C8D4E3"
             },
             "line": {
              "color": "white"
             }
            },
            "type": "table"
           }
          ]
         },
         "layout": {
          "annotationdefaults": {
           "arrowcolor": "#2a3f5f",
           "arrowhead": 0,
           "arrowwidth": 1
          },
          "autotypenumbers": "strict",
          "coloraxis": {
           "colorbar": {
            "outlinewidth": 0,
            "ticks": ""
           }
          },
          "colorscale": {
           "diverging": [
            [
             0,
             "#8e0152"
            ],
            [
             0.1,
             "#c51b7d"
            ],
            [
             0.2,
             "#de77ae"
            ],
            [
             0.3,
             "#f1b6da"
            ],
            [
             0.4,
             "#fde0ef"
            ],
            [
             0.5,
             "#f7f7f7"
            ],
            [
             0.6,
             "#e6f5d0"
            ],
            [
             0.7,
             "#b8e186"
            ],
            [
             0.8,
             "#7fbc41"
            ],
            [
             0.9,
             "#4d9221"
            ],
            [
             1,
             "#276419"
            ]
           ],
           "sequential": [
            [
             0,
             "#0d0887"
            ],
            [
             0.1111111111111111,
             "#46039f"
            ],
            [
             0.2222222222222222,
             "#7201a8"
            ],
            [
             0.3333333333333333,
             "#9c179e"
            ],
            [
             0.4444444444444444,
             "#bd3786"
            ],
            [
             0.5555555555555556,
             "#d8576b"
            ],
            [
             0.6666666666666666,
             "#ed7953"
            ],
            [
             0.7777777777777778,
             "#fb9f3a"
            ],
            [
             0.8888888888888888,
             "#fdca26"
            ],
            [
             1,
             "#f0f921"
            ]
           ],
           "sequentialminus": [
            [
             0,
             "#0d0887"
            ],
            [
             0.1111111111111111,
             "#46039f"
            ],
            [
             0.2222222222222222,
             "#7201a8"
            ],
            [
             0.3333333333333333,
             "#9c179e"
            ],
            [
             0.4444444444444444,
             "#bd3786"
            ],
            [
             0.5555555555555556,
             "#d8576b"
            ],
            [
             0.6666666666666666,
             "#ed7953"
            ],
            [
             0.7777777777777778,
             "#fb9f3a"
            ],
            [
             0.8888888888888888,
             "#fdca26"
            ],
            [
             1,
             "#f0f921"
            ]
           ]
          },
          "colorway": [
           "#636efa",
           "#EF553B",
           "#00cc96",
           "#ab63fa",
           "#FFA15A",
           "#19d3f3",
           "#FF6692",
           "#B6E880",
           "#FF97FF",
           "#FECB52"
          ],
          "font": {
           "color": "#2a3f5f"
          },
          "geo": {
           "bgcolor": "white",
           "lakecolor": "white",
           "landcolor": "#E5ECF6",
           "showlakes": true,
           "showland": true,
           "subunitcolor": "white"
          },
          "hoverlabel": {
           "align": "left"
          },
          "hovermode": "closest",
          "mapbox": {
           "style": "light"
          },
          "paper_bgcolor": "white",
          "plot_bgcolor": "#E5ECF6",
          "polar": {
           "angularaxis": {
            "gridcolor": "white",
            "linecolor": "white",
            "ticks": ""
           },
           "bgcolor": "#E5ECF6",
           "radialaxis": {
            "gridcolor": "white",
            "linecolor": "white",
            "ticks": ""
           }
          },
          "scene": {
           "xaxis": {
            "backgroundcolor": "#E5ECF6",
            "gridcolor": "white",
            "gridwidth": 2,
            "linecolor": "white",
            "showbackground": true,
            "ticks": "",
            "zerolinecolor": "white"
           },
           "yaxis": {
            "backgroundcolor": "#E5ECF6",
            "gridcolor": "white",
            "gridwidth": 2,
            "linecolor": "white",
            "showbackground": true,
            "ticks": "",
            "zerolinecolor": "white"
           },
           "zaxis": {
            "backgroundcolor": "#E5ECF6",
            "gridcolor": "white",
            "gridwidth": 2,
            "linecolor": "white",
            "showbackground": true,
            "ticks": "",
            "zerolinecolor": "white"
           }
          },
          "shapedefaults": {
           "line": {
            "color": "#2a3f5f"
           }
          },
          "ternary": {
           "aaxis": {
            "gridcolor": "white",
            "linecolor": "white",
            "ticks": ""
           },
           "baxis": {
            "gridcolor": "white",
            "linecolor": "white",
            "ticks": ""
           },
           "bgcolor": "#E5ECF6",
           "caxis": {
            "gridcolor": "white",
            "linecolor": "white",
            "ticks": ""
           }
          },
          "title": {
           "x": 0.05
          },
          "xaxis": {
           "automargin": true,
           "gridcolor": "white",
           "linecolor": "white",
           "ticks": "",
           "title": {
            "standoff": 15
           },
           "zerolinecolor": "white",
           "zerolinewidth": 2
          },
          "yaxis": {
           "automargin": true,
           "gridcolor": "white",
           "linecolor": "white",
           "ticks": "",
           "title": {
            "standoff": 15
           },
           "zerolinecolor": "white",
           "zerolinewidth": 2
          }
         }
        },
        "width": 1100,
        "xaxis": {
         "categoryarray": [
          "Brainchop",
          "CTBET",
          "CT_BET",
          "CTbet_Docker",
          "HD-CTBET",
          "Robust-CTBET",
          "SynthStrip"
         ],
         "categoryorder": "array",
         "tickmode": "array",
         "ticktext": [
          "Brainchop",
          "CTBET",
          "CT_BET",
          "CTbet_Docker",
          "HD-CTBET",
          "Robust-CTBET",
          "SynthStrip"
         ],
         "tickvals": [
          "Brainchop",
          "CTBET",
          "CT_BET",
          "CTbet_Docker",
          "HD-CTBET",
          "Robust-CTBET",
          "SynthStrip"
         ],
         "title": {
          "text": "Method"
         }
        },
        "yaxis": {
         "title": {
          "text": "ICV Ratio"
         }
        }
       }
      }
     },
     "metadata": {},
     "output_type": "display_data"
    }
   ],
   "source": [
    "import plotly.graph_objects as go\n",
    "import plotly.express as px\n",
    "\n",
    "datasets = sorted(all_df['Dataset'].unique())\n",
    "methods  = sorted(all_df['method_A'].unique())\n",
    "\n",
    "# Custom dark, color-blind friendly colors per dataset\n",
    "# Explicit mapping for reproducibility; extend if new datasets appear.\n",
    "custom_dataset_colors = {\n",
    "    'JH_Head_CT': '#264653',        # dark teal\n",
    "    'CERMEP-IDB-MRXFDG': '#6a4c93', # dark purple\n",
    "    'MISTIE_III': '#b23a48',        # deep wine red\n",
    "}\n",
    "# Fallback palette (Dark2) for any dataset not in the explicit map\n",
    "fallback_colors = px.colors.qualitative.Dark2\n",
    "for i, ds in enumerate(datasets):\n",
    "    if ds not in custom_dataset_colors:\n",
    "        custom_dataset_colors[ds] = fallback_colors[i % len(fallback_colors)]\n",
    "\n",
    "fig = go.Figure()\n",
    "\n",
    "# One trace per dataset; Plotly groups by x (method)\n",
    "for ds in datasets:\n",
    "    d = all_df[all_df['Dataset'] == ds]\n",
    "    if d.empty:\n",
    "        continue\n",
    "    fig.add_trace(go.Box(\n",
    "        x=d['method_A'],                # categories = methods\n",
    "        y=d['icv_ratio'],\n",
    "        name=ds,                        # legend per dataset\n",
    "        marker_color=custom_dataset_colors[ds],\n",
    "        boxpoints='outliers',\n",
    "        jitter=0,\n",
    "        pointpos=0,\n",
    "        legendgroup=ds,\n",
    "        offsetgroup=ds,                 # group within each method\n",
    "        alignmentgroup='all',\n",
    "        hovertemplate='Dataset: '+ds+'<br>Method: %{x}<br>ICV Ratio: %{y:.3f}<extra></extra>'\n",
    "    ))\n",
    "\n",
    "fig.update_layout(\n",
    "    boxmode='group',\n",
    "    width=1100, height=600,\n",
    "    margin=dict(l=60, r=30, t=60, b=50),\n",
    "    legend=dict(orientation='h', yanchor='bottom', y=1.02, xanchor='left', x=0, title=None),\n",
    "    font=dict(size=13)\n",
    ")\n",
    "fig.update_xaxes(title_text='Method',\n",
    "                 categoryorder='array', categoryarray=methods, tickmode='array',\n",
    "                 tickvals=methods, ticktext=methods)\n",
    "fig.update_yaxes(title_text='ICV Ratio')\n",
    "\n",
    "fig.show()"
   ]
  },
  {
   "cell_type": "code",
   "execution_count": 21,
   "id": "bdce417f",
   "metadata": {},
   "outputs": [
    {
     "data": {
      "application/vnd.plotly.v1+json": {
       "config": {
        "plotlyServerURL": "https://plot.ly"
       },
       "data": [
        {
         "alignmentgroup": "all",
         "boxpoints": "outliers",
         "hovertemplate": "Dataset: CERMEP-IDB-MRXFDG<br>Method: %{x}<br>Hausdorff Distance (HD95) (mm): %{y:.3f}<extra></extra>",
         "jitter": 0,
         "legendgroup": "CERMEP-IDB-MRXFDG",
         "marker": {
          "color": "#6a4c93"
         },
         "name": "CERMEP-IDB-MRXFDG",
         "offsetgroup": "CERMEP-IDB-MRXFDG",
         "pointpos": 0,
         "type": "box",
         "x": [
          "Brainchop",
          "HD-CTBET",
          "SynthStrip",
          "CTBET",
          "Robust-CTBET",
          "CT_BET",
          "CTbet_Docker",
          "Brainchop",
          "HD-CTBET",
          "SynthStrip",
          "CTBET",
          "Robust-CTBET",
          "CT_BET",
          "CTbet_Docker",
          "Brainchop",
          "HD-CTBET",
          "SynthStrip",
          "CTBET",
          "Robust-CTBET",
          "CT_BET",
          "CTbet_Docker",
          "Brainchop",
          "HD-CTBET",
          "SynthStrip",
          "CTBET",
          "Robust-CTBET",
          "CT_BET",
          "CTbet_Docker",
          "Brainchop",
          "HD-CTBET",
          "SynthStrip",
          "CTBET",
          "Robust-CTBET",
          "CT_BET",
          "CTbet_Docker",
          "Brainchop",
          "HD-CTBET",
          "SynthStrip",
          "CTBET",
          "Robust-CTBET",
          "CT_BET",
          "CTbet_Docker",
          "Brainchop",
          "HD-CTBET",
          "SynthStrip",
          "CTBET",
          "Robust-CTBET",
          "CT_BET",
          "CTbet_Docker",
          "Brainchop",
          "HD-CTBET",
          "SynthStrip",
          "CTBET",
          "Robust-CTBET",
          "CT_BET",
          "CTbet_Docker",
          "Brainchop",
          "HD-CTBET",
          "SynthStrip",
          "CTBET",
          "Robust-CTBET",
          "CT_BET",
          "CTbet_Docker",
          "Brainchop",
          "HD-CTBET",
          "SynthStrip",
          "CTBET",
          "Robust-CTBET",
          "CT_BET",
          "CTbet_Docker",
          "Brainchop",
          "HD-CTBET",
          "SynthStrip",
          "CTBET",
          "Robust-CTBET",
          "CT_BET",
          "CTbet_Docker",
          "Brainchop",
          "HD-CTBET",
          "SynthStrip",
          "CTBET",
          "Robust-CTBET",
          "CT_BET",
          "CTbet_Docker",
          "Brainchop",
          "HD-CTBET",
          "SynthStrip",
          "CTBET",
          "Robust-CTBET",
          "CT_BET",
          "CTbet_Docker",
          "Brainchop",
          "HD-CTBET",
          "SynthStrip",
          "CTBET",
          "Robust-CTBET",
          "CT_BET",
          "CTbet_Docker",
          "Brainchop",
          "HD-CTBET",
          "SynthStrip",
          "CTBET",
          "Robust-CTBET",
          "CT_BET",
          "CTbet_Docker",
          "Brainchop",
          "HD-CTBET",
          "SynthStrip",
          "CTBET",
          "Robust-CTBET",
          "CT_BET",
          "CTbet_Docker",
          "Brainchop",
          "HD-CTBET",
          "SynthStrip",
          "CTBET",
          "Robust-CTBET",
          "CT_BET",
          "CTbet_Docker",
          "Brainchop",
          "HD-CTBET",
          "SynthStrip",
          "CTBET",
          "Robust-CTBET",
          "CT_BET",
          "CTbet_Docker",
          "Brainchop",
          "HD-CTBET",
          "SynthStrip",
          "CTBET",
          "Robust-CTBET",
          "CT_BET",
          "CTbet_Docker",
          "Brainchop",
          "HD-CTBET",
          "SynthStrip",
          "CTBET",
          "Robust-CTBET",
          "CT_BET",
          "CTbet_Docker"
         ],
         "y": {
          "bdata": "/tR46SYxCkCwcmiR7XwCQPT91HjpJhJAi2zn+6mRVkBMN4lBYOUIQE5iEFg5dC5A9ihcj8J1FEAAAAAAAAASQO58PzVeugRAokW28/1UGkDhehSuR0FEQHNoke18vxJA+FPjpZvEGUDP91PjpZswQJqZmZmZmRZA2/l+arx0CEBvEoPAyqEbQNv5fmq81F1Ai2zn+6khT0Ce76fGSz9UQGIQWDm0wGhAAAAAAAAAEkAAAAAAAAAIQARWDi2yHRhACKwcWmQ/YEBEi2zn+ykQQHe+nxovHShARIts5/u9aEASg8DKocUQQEoMAiuHFhJAZmZmZmbmGED6fmq8dEtcQF66SQwCKw9Ay6FFtvOtSUBQjZduEqNpQCPb+X5qHEVAAAAAAAAAEkAdWmQ7388aQEjhehSux2BAK4cW2c53WUD0/dR46UZVQBfZzvdTn2lA2/l+arx0DkDdJAaBlUMGQPhT46WbRBlA8tJNYhAYV0D0/dR46SYSQAAAAAAAAB5ArBxaZDsPQkD2KFyPwvUWQO58PzVeugRAAAAAAAAAEkBvEoPAymFbQIcW2c73UwpAAAAAAABAR0B1kxgEVlpnQAAAAAAAABhAAAAAAAAACEArhxbZzncRQEa28/3U0FtAAAAAAAAACECcxCCwcugdQNnO91PjQWRArkfhehR+REBoke18PzUMQMHKoUW2cxhAWDm0yHY2WkBYObTIdv5HQGZmZmZmPldAL90kBoFFaUA3iUFg5dALQAAAAAAAAAhAexSuR+F6FUCWQ4ts5wNYQF66SQwCKw9Abef7qfFSI0D+1HjpJrEYQHsUrkfhehVAAAAAAAAACEDD9Shcj0IWQGiR7Xw/rVlAtMh2vp8aDUCoxks3iYE9QLKd76fGSy5AhxbZzvdTFEBCYOXQIlsWQGiR7Xw/tRpAoBov3ST2W0Bt5/up8VITQGiR7Xw/dTpANV66SQxeZkD8qfHSTeITQHe+nxov3Q9ABFYOLbIdGEDb+X5qvHRbQLByaJHtfBJA/Knx0k1iFkDD9Shcj6IwQDeJQWDlkCBAEoPAyqHFEECuR+F6FC4TQFyPwvUoVF9A30+Nl26aU0AUrkfheqRdQI/C9Shcm2pAexSuR+F6FUD0/dR46SYSQH9qvHSTGBpAObTIdr4XWUCamZmZmZkSQOf7qfHSzRVAxSCwcmjFZED+1HjpJjEYQDVeukkMghVA+FPjpZvEGUAMAiuHFlFXQG3n+6nx0hNAMzMzMzOzSEA1XrpJDCpjQIlBYOXQohJAcT0K16NwB0A1XrpJDIIVQE5iEFg53F1AUI2XbhKDDED8qfHSTeIaQM/3U+OlD2ZAAAAAAAAAKEAAAAAAAAAIQLByaJHtfBJAmpmZmZkRWUBMN4lBYOUIQGDl0CLbSUpArBxaZDt3Z0DXo3A9CtcWQAAAAAAAAAhAppvEILDyGkCWQ4ts57NbQCuHFtnOdxFAvp8aL90kH0DNzMzMzLRkQA==",
          "dtype": "f8"
         }
        },
        {
         "alignmentgroup": "all",
         "boxpoints": "outliers",
         "hovertemplate": "Dataset: JH_Head_CT<br>Method: %{x}<br>Hausdorff Distance (HD95) (mm): %{y:.3f}<extra></extra>",
         "jitter": 0,
         "legendgroup": "JH_Head_CT",
         "marker": {
          "color": "#264653"
         },
         "name": "JH_Head_CT",
         "offsetgroup": "JH_Head_CT",
         "pointpos": 0,
         "type": "box",
         "x": [
          "Brainchop",
          "HD-CTBET",
          "SynthStrip",
          "CTBET",
          "Robust-CTBET",
          "CT_BET",
          "CTbet_Docker",
          "Brainchop",
          "HD-CTBET",
          "SynthStrip",
          "CTBET",
          "Robust-CTBET",
          "CT_BET",
          "CTbet_Docker",
          "Brainchop",
          "HD-CTBET",
          "SynthStrip",
          "CTBET",
          "Robust-CTBET",
          "CTbet_Docker",
          "Brainchop",
          "HD-CTBET",
          "SynthStrip",
          "CTBET",
          "Robust-CTBET",
          "CT_BET",
          "CTbet_Docker",
          "Brainchop",
          "HD-CTBET",
          "SynthStrip",
          "CTBET",
          "Robust-CTBET",
          "CTbet_Docker",
          "Brainchop",
          "HD-CTBET",
          "SynthStrip",
          "CTBET",
          "Robust-CTBET",
          "CT_BET",
          "CTbet_Docker",
          "Brainchop",
          "HD-CTBET",
          "SynthStrip",
          "CTBET",
          "Robust-CTBET",
          "CTbet_Docker",
          "Brainchop",
          "HD-CTBET",
          "SynthStrip",
          "CTBET",
          "Robust-CTBET",
          "CTbet_Docker",
          "Brainchop",
          "HD-CTBET",
          "SynthStrip",
          "CTBET",
          "Robust-CTBET",
          "CT_BET",
          "CTbet_Docker",
          "Brainchop",
          "HD-CTBET",
          "SynthStrip",
          "CTBET",
          "Robust-CTBET",
          "CTbet_Docker",
          "Brainchop",
          "HD-CTBET",
          "SynthStrip",
          "CTBET",
          "Robust-CTBET",
          "CTbet_Docker",
          "Brainchop",
          "HD-CTBET",
          "SynthStrip",
          "CTBET",
          "Robust-CTBET",
          "CTbet_Docker",
          "Brainchop",
          "HD-CTBET",
          "SynthStrip",
          "CTBET",
          "Robust-CTBET",
          "CTbet_Docker",
          "Brainchop",
          "HD-CTBET",
          "SynthStrip",
          "CTBET",
          "Robust-CTBET",
          "CT_BET",
          "CTbet_Docker",
          "Brainchop",
          "HD-CTBET",
          "SynthStrip",
          "CTBET",
          "Robust-CTBET",
          "CTbet_Docker",
          "Brainchop",
          "HD-CTBET",
          "SynthStrip",
          "CTBET",
          "Robust-CTBET",
          "CTbet_Docker",
          "Brainchop",
          "HD-CTBET",
          "SynthStrip",
          "CTBET",
          "Robust-CTBET",
          "CT_BET",
          "CTbet_Docker",
          "Brainchop",
          "HD-CTBET",
          "SynthStrip",
          "CTBET",
          "Robust-CTBET",
          "CTbet_Docker",
          "Brainchop",
          "HD-CTBET",
          "SynthStrip",
          "CTBET",
          "Robust-CTBET",
          "CT_BET",
          "CTbet_Docker",
          "Brainchop",
          "HD-CTBET",
          "SynthStrip",
          "CTBET",
          "Robust-CTBET",
          "CT_BET",
          "CTbet_Docker",
          "Brainchop",
          "HD-CTBET",
          "SynthStrip",
          "CTBET",
          "Robust-CTBET",
          "CT_BET",
          "CTbet_Docker",
          "Brainchop",
          "HD-CTBET",
          "SynthStrip",
          "CTBET",
          "Robust-CTBET",
          "CTbet_Docker",
          "Brainchop",
          "HD-CTBET",
          "SynthStrip",
          "CTBET",
          "Robust-CTBET",
          "CTbet_Docker",
          "Brainchop",
          "HD-CTBET",
          "SynthStrip",
          "CTBET",
          "Robust-CTBET",
          "CTbet_Docker",
          "Brainchop",
          "HD-CTBET",
          "SynthStrip",
          "CTBET",
          "Robust-CTBET",
          "CTbet_Docker",
          "Brainchop",
          "HD-CTBET",
          "SynthStrip",
          "CTBET",
          "Robust-CTBET",
          "CT_BET",
          "CTbet_Docker",
          "Brainchop",
          "HD-CTBET",
          "SynthStrip",
          "CTBET",
          "Robust-CTBET",
          "CTbet_Docker",
          "Brainchop",
          "HD-CTBET",
          "SynthStrip",
          "CTBET",
          "Robust-CTBET",
          "CTbet_Docker",
          "Brainchop",
          "HD-CTBET",
          "SynthStrip",
          "CTBET",
          "Robust-CTBET",
          "CT_BET",
          "CTbet_Docker",
          "Brainchop",
          "HD-CTBET",
          "SynthStrip",
          "CTBET",
          "Robust-CTBET",
          "CTbet_Docker",
          "Brainchop",
          "HD-CTBET",
          "SynthStrip",
          "CTBET",
          "Robust-CTBET",
          "CT_BET",
          "CTbet_Docker",
          "Brainchop",
          "HD-CTBET",
          "SynthStrip",
          "CTBET",
          "Robust-CTBET",
          "CTbet_Docker",
          "Brainchop",
          "HD-CTBET",
          "SynthStrip",
          "CTBET",
          "Robust-CTBET",
          "CTbet_Docker",
          "Brainchop",
          "HD-CTBET",
          "SynthStrip",
          "CTBET",
          "Robust-CTBET",
          "CT_BET",
          "CTbet_Docker",
          "Brainchop",
          "HD-CTBET",
          "SynthStrip",
          "CTBET",
          "Robust-CTBET",
          "CTbet_Docker"
         ],
         "y": {
          "bdata": "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",
          "dtype": "f8"
         }
        },
        {
         "alignmentgroup": "all",
         "boxpoints": "outliers",
         "hovertemplate": "Dataset: MISTIE_III<br>Method: %{x}<br>Hausdorff Distance (HD95) (mm): %{y:.3f}<extra></extra>",
         "jitter": 0,
         "legendgroup": "MISTIE_III",
         "marker": {
          "color": "#b23a48"
         },
         "name": "MISTIE_III",
         "offsetgroup": "MISTIE_III",
         "pointpos": 0,
         "type": "box",
         "x": [
          "Brainchop",
          "HD-CTBET",
          "SynthStrip",
          "CTBET",
          "Robust-CTBET",
          "CTbet_Docker",
          "Brainchop",
          "HD-CTBET",
          "SynthStrip",
          "CTBET",
          "Robust-CTBET",
          "CT_BET",
          "CTbet_Docker",
          "Brainchop",
          "HD-CTBET",
          "SynthStrip",
          "CTBET",
          "Robust-CTBET",
          "CT_BET",
          "CTbet_Docker",
          "Brainchop",
          "HD-CTBET",
          "SynthStrip",
          "CTBET",
          "Robust-CTBET",
          "CT_BET",
          "CTbet_Docker",
          "Brainchop",
          "HD-CTBET",
          "SynthStrip",
          "CTBET",
          "Robust-CTBET",
          "CTbet_Docker",
          "Brainchop",
          "HD-CTBET",
          "SynthStrip",
          "CTBET",
          "Robust-CTBET",
          "CTbet_Docker",
          "Brainchop",
          "HD-CTBET",
          "SynthStrip",
          "CTBET",
          "Robust-CTBET",
          "CT_BET",
          "CTbet_Docker",
          "Brainchop",
          "HD-CTBET",
          "SynthStrip",
          "CTBET",
          "Robust-CTBET",
          "CT_BET",
          "CTbet_Docker",
          "Brainchop",
          "HD-CTBET",
          "SynthStrip",
          "CTBET",
          "Robust-CTBET",
          "CT_BET",
          "CTbet_Docker",
          "Brainchop",
          "HD-CTBET",
          "SynthStrip",
          "CTBET",
          "Robust-CTBET",
          "CT_BET",
          "CTbet_Docker"
         ],
         "y": {
          "bdata": "mpmZmZl5MUCcxCCwcugeQHNoke18nzJAVg4tsp0vN0CBlUOLbCc6QLbz/dR46Q5ACKwcWmQ7DkAAAAAAAAAUQOOlm8QgsBFAAAAAAABAWkAAAAAAAAAkQOxRuB6F01FAarx0kxgE7j+HFtnO91MUQNv5fmq8dA5AAAAAAAAAGECDwMqhRbYaQEw3iUFg5RJACtejcD0KK0DP91PjpZsVQLByaJHt/CtA9ihcj8K1LUD0/dR46aYvQAAAAAAAAC5AAAAAAAAALkAUrkfhehQHQE5iEFg5tAFAAAAAAAAAFEAAAAAAAAAUQGDl0CLb+RRAF9nO91PjAUDl0CLb+X4AQAwCK4cW2fw/Vg4tsp2vJ0DhehSuR2EdQJZDi2zneyFAGQRWDi2yE0B56SYxCKwMQJ7vp8ZLNx1AI9v5fmo8F0AAAAAAAAAUQOf7qfHSzRhAPQrXo3A96j89CtejcD3qP4cW2c73U0JAdZMYBFaOEkAj2/l+ajwmQMl2vp8arx1ASOF6FK6nPkDy0k1iEFgJQFK4HoXrUQBAAAAAAACALkDy0k1iEFgJQAAAAAAAAD5AAAAAAAAAFEAAAAAAAAAUQAAAAAAAABRAAAAAAAAAFEDwp8ZLN0kqQIPAyqFFtgZAAAAAAAAAFEAAAAAAAAAUQAAAAAAAABRAuB6F61FITUAAAAAAAAAUQAAAAAAAgEtAAAAAAACARkA=",
          "dtype": "f8"
         }
        }
       ],
       "layout": {
        "boxmode": "group",
        "font": {
         "size": 13
        },
        "height": 600,
        "legend": {
         "orientation": "h",
         "title": {},
         "x": 0,
         "xanchor": "left",
         "y": 1.02,
         "yanchor": "bottom"
        },
        "margin": {
         "b": 50,
         "l": 60,
         "r": 30,
         "t": 60
        },
        "template": {
         "data": {
          "bar": [
           {
            "error_x": {
             "color": "#2a3f5f"
            },
            "error_y": {
             "color": "#2a3f5f"
            },
            "marker": {
             "line": {
              "color": "#E5ECF6",
              "width": 0.5
             },
             "pattern": {
              "fillmode": "overlay",
              "size": 10,
              "solidity": 0.2
             }
            },
            "type": "bar"
           }
          ],
          "barpolar": [
           {
            "marker": {
             "line": {
              "color": "#E5ECF6",
              "width": 0.5
             },
             "pattern": {
              "fillmode": "overlay",
              "size": 10,
              "solidity": 0.2
             }
            },
            "type": "barpolar"
           }
          ],
          "carpet": [
           {
            "aaxis": {
             "endlinecolor": "#2a3f5f",
             "gridcolor": "white",
             "linecolor": "white",
             "minorgridcolor": "white",
             "startlinecolor": "#2a3f5f"
            },
            "baxis": {
             "endlinecolor": "#2a3f5f",
             "gridcolor": "white",
             "linecolor": "white",
             "minorgridcolor": "white",
             "startlinecolor": "#2a3f5f"
            },
            "type": "carpet"
           }
          ],
          "choropleth": [
           {
            "colorbar": {
             "outlinewidth": 0,
             "ticks": ""
            },
            "type": "choropleth"
           }
          ],
          "contour": [
           {
            "colorbar": {
             "outlinewidth": 0,
             "ticks": ""
            },
            "colorscale": [
             [
              0,
              "#0d0887"
             ],
             [
              0.1111111111111111,
              "#46039f"
             ],
             [
              0.2222222222222222,
              "#7201a8"
             ],
             [
              0.3333333333333333,
              "#9c179e"
             ],
             [
              0.4444444444444444,
              "#bd3786"
             ],
             [
              0.5555555555555556,
              "#d8576b"
             ],
             [
              0.6666666666666666,
              "#ed7953"
             ],
             [
              0.7777777777777778,
              "#fb9f3a"
             ],
             [
              0.8888888888888888,
              "#fdca26"
             ],
             [
              1,
              "#f0f921"
             ]
            ],
            "type": "contour"
           }
          ],
          "contourcarpet": [
           {
            "colorbar": {
             "outlinewidth": 0,
             "ticks": ""
            },
            "type": "contourcarpet"
           }
          ],
          "heatmap": [
           {
            "colorbar": {
             "outlinewidth": 0,
             "ticks": ""
            },
            "colorscale": [
             [
              0,
              "#0d0887"
             ],
             [
              0.1111111111111111,
              "#46039f"
             ],
             [
              0.2222222222222222,
              "#7201a8"
             ],
             [
              0.3333333333333333,
              "#9c179e"
             ],
             [
              0.4444444444444444,
              "#bd3786"
             ],
             [
              0.5555555555555556,
              "#d8576b"
             ],
             [
              0.6666666666666666,
              "#ed7953"
             ],
             [
              0.7777777777777778,
              "#fb9f3a"
             ],
             [
              0.8888888888888888,
              "#fdca26"
             ],
             [
              1,
              "#f0f921"
             ]
            ],
            "type": "heatmap"
           }
          ],
          "histogram": [
           {
            "marker": {
             "pattern": {
              "fillmode": "overlay",
              "size": 10,
              "solidity": 0.2
             }
            },
            "type": "histogram"
           }
          ],
          "histogram2d": [
           {
            "colorbar": {
             "outlinewidth": 0,
             "ticks": ""
            },
            "colorscale": [
             [
              0,
              "#0d0887"
             ],
             [
              0.1111111111111111,
              "#46039f"
             ],
             [
              0.2222222222222222,
              "#7201a8"
             ],
             [
              0.3333333333333333,
              "#9c179e"
             ],
             [
              0.4444444444444444,
              "#bd3786"
             ],
             [
              0.5555555555555556,
              "#d8576b"
             ],
             [
              0.6666666666666666,
              "#ed7953"
             ],
             [
              0.7777777777777778,
              "#fb9f3a"
             ],
             [
              0.8888888888888888,
              "#fdca26"
             ],
             [
              1,
              "#f0f921"
             ]
            ],
            "type": "histogram2d"
           }
          ],
          "histogram2dcontour": [
           {
            "colorbar": {
             "outlinewidth": 0,
             "ticks": ""
            },
            "colorscale": [
             [
              0,
              "#0d0887"
             ],
             [
              0.1111111111111111,
              "#46039f"
             ],
             [
              0.2222222222222222,
              "#7201a8"
             ],
             [
              0.3333333333333333,
              "#9c179e"
             ],
             [
              0.4444444444444444,
              "#bd3786"
             ],
             [
              0.5555555555555556,
              "#d8576b"
             ],
             [
              0.6666666666666666,
              "#ed7953"
             ],
             [
              0.7777777777777778,
              "#fb9f3a"
             ],
             [
              0.8888888888888888,
              "#fdca26"
             ],
             [
              1,
              "#f0f921"
             ]
            ],
            "type": "histogram2dcontour"
           }
          ],
          "mesh3d": [
           {
            "colorbar": {
             "outlinewidth": 0,
             "ticks": ""
            },
            "type": "mesh3d"
           }
          ],
          "parcoords": [
           {
            "line": {
             "colorbar": {
              "outlinewidth": 0,
              "ticks": ""
             }
            },
            "type": "parcoords"
           }
          ],
          "pie": [
           {
            "automargin": true,
            "type": "pie"
           }
          ],
          "scatter": [
           {
            "fillpattern": {
             "fillmode": "overlay",
             "size": 10,
             "solidity": 0.2
            },
            "type": "scatter"
           }
          ],
          "scatter3d": [
           {
            "line": {
             "colorbar": {
              "outlinewidth": 0,
              "ticks": ""
             }
            },
            "marker": {
             "colorbar": {
              "outlinewidth": 0,
              "ticks": ""
             }
            },
            "type": "scatter3d"
           }
          ],
          "scattercarpet": [
           {
            "marker": {
             "colorbar": {
              "outlinewidth": 0,
              "ticks": ""
             }
            },
            "type": "scattercarpet"
           }
          ],
          "scattergeo": [
           {
            "marker": {
             "colorbar": {
              "outlinewidth": 0,
              "ticks": ""
             }
            },
            "type": "scattergeo"
           }
          ],
          "scattergl": [
           {
            "marker": {
             "colorbar": {
              "outlinewidth": 0,
              "ticks": ""
             }
            },
            "type": "scattergl"
           }
          ],
          "scattermap": [
           {
            "marker": {
             "colorbar": {
              "outlinewidth": 0,
              "ticks": ""
             }
            },
            "type": "scattermap"
           }
          ],
          "scattermapbox": [
           {
            "marker": {
             "colorbar": {
              "outlinewidth": 0,
              "ticks": ""
             }
            },
            "type": "scattermapbox"
           }
          ],
          "scatterpolar": [
           {
            "marker": {
             "colorbar": {
              "outlinewidth": 0,
              "ticks": ""
             }
            },
            "type": "scatterpolar"
           }
          ],
          "scatterpolargl": [
           {
            "marker": {
             "colorbar": {
              "outlinewidth": 0,
              "ticks": ""
             }
            },
            "type": "scatterpolargl"
           }
          ],
          "scatterternary": [
           {
            "marker": {
             "colorbar": {
              "outlinewidth": 0,
              "ticks": ""
             }
            },
            "type": "scatterternary"
           }
          ],
          "surface": [
           {
            "colorbar": {
             "outlinewidth": 0,
             "ticks": ""
            },
            "colorscale": [
             [
              0,
              "#0d0887"
             ],
             [
              0.1111111111111111,
              "#46039f"
             ],
             [
              0.2222222222222222,
              "#7201a8"
             ],
             [
              0.3333333333333333,
              "#9c179e"
             ],
             [
              0.4444444444444444,
              "#bd3786"
             ],
             [
              0.5555555555555556,
              "#d8576b"
             ],
             [
              0.6666666666666666,
              "#ed7953"
             ],
             [
              0.7777777777777778,
              "#fb9f3a"
             ],
             [
              0.8888888888888888,
              "#fdca26"
             ],
             [
              1,
              "#f0f921"
             ]
            ],
            "type": "surface"
           }
          ],
          "table": [
           {
            "cells": {
             "fill": {
              "color": "#EBF0F8"
             },
             "line": {
              "color": "white"
             }
            },
            "header": {
             "fill": {
              "color": "#C8D4E3"
             },
             "line": {
              "color": "white"
             }
            },
            "type": "table"
           }
          ]
         },
         "layout": {
          "annotationdefaults": {
           "arrowcolor": "#2a3f5f",
           "arrowhead": 0,
           "arrowwidth": 1
          },
          "autotypenumbers": "strict",
          "coloraxis": {
           "colorbar": {
            "outlinewidth": 0,
            "ticks": ""
           }
          },
          "colorscale": {
           "diverging": [
            [
             0,
             "#8e0152"
            ],
            [
             0.1,
             "#c51b7d"
            ],
            [
             0.2,
             "#de77ae"
            ],
            [
             0.3,
             "#f1b6da"
            ],
            [
             0.4,
             "#fde0ef"
            ],
            [
             0.5,
             "#f7f7f7"
            ],
            [
             0.6,
             "#e6f5d0"
            ],
            [
             0.7,
             "#b8e186"
            ],
            [
             0.8,
             "#7fbc41"
            ],
            [
             0.9,
             "#4d9221"
            ],
            [
             1,
             "#276419"
            ]
           ],
           "sequential": [
            [
             0,
             "#0d0887"
            ],
            [
             0.1111111111111111,
             "#46039f"
            ],
            [
             0.2222222222222222,
             "#7201a8"
            ],
            [
             0.3333333333333333,
             "#9c179e"
            ],
            [
             0.4444444444444444,
             "#bd3786"
            ],
            [
             0.5555555555555556,
             "#d8576b"
            ],
            [
             0.6666666666666666,
             "#ed7953"
            ],
            [
             0.7777777777777778,
             "#fb9f3a"
            ],
            [
             0.8888888888888888,
             "#fdca26"
            ],
            [
             1,
             "#f0f921"
            ]
           ],
           "sequentialminus": [
            [
             0,
             "#0d0887"
            ],
            [
             0.1111111111111111,
             "#46039f"
            ],
            [
             0.2222222222222222,
             "#7201a8"
            ],
            [
             0.3333333333333333,
             "#9c179e"
            ],
            [
             0.4444444444444444,
             "#bd3786"
            ],
            [
             0.5555555555555556,
             "#d8576b"
            ],
            [
             0.6666666666666666,
             "#ed7953"
            ],
            [
             0.7777777777777778,
             "#fb9f3a"
            ],
            [
             0.8888888888888888,
             "#fdca26"
            ],
            [
             1,
             "#f0f921"
            ]
           ]
          },
          "colorway": [
           "#636efa",
           "#EF553B",
           "#00cc96",
           "#ab63fa",
           "#FFA15A",
           "#19d3f3",
           "#FF6692",
           "#B6E880",
           "#FF97FF",
           "#FECB52"
          ],
          "font": {
           "color": "#2a3f5f"
          },
          "geo": {
           "bgcolor": "white",
           "lakecolor": "white",
           "landcolor": "#E5ECF6",
           "showlakes": true,
           "showland": true,
           "subunitcolor": "white"
          },
          "hoverlabel": {
           "align": "left"
          },
          "hovermode": "closest",
          "mapbox": {
           "style": "light"
          },
          "paper_bgcolor": "white",
          "plot_bgcolor": "#E5ECF6",
          "polar": {
           "angularaxis": {
            "gridcolor": "white",
            "linecolor": "white",
            "ticks": ""
           },
           "bgcolor": "#E5ECF6",
           "radialaxis": {
            "gridcolor": "white",
            "linecolor": "white",
            "ticks": ""
           }
          },
          "scene": {
           "xaxis": {
            "backgroundcolor": "#E5ECF6",
            "gridcolor": "white",
            "gridwidth": 2,
            "linecolor": "white",
            "showbackground": true,
            "ticks": "",
            "zerolinecolor": "white"
           },
           "yaxis": {
            "backgroundcolor": "#E5ECF6",
            "gridcolor": "white",
            "gridwidth": 2,
            "linecolor": "white",
            "showbackground": true,
            "ticks": "",
            "zerolinecolor": "white"
           },
           "zaxis": {
            "backgroundcolor": "#E5ECF6",
            "gridcolor": "white",
            "gridwidth": 2,
            "linecolor": "white",
            "showbackground": true,
            "ticks": "",
            "zerolinecolor": "white"
           }
          },
          "shapedefaults": {
           "line": {
            "color": "#2a3f5f"
           }
          },
          "ternary": {
           "aaxis": {
            "gridcolor": "white",
            "linecolor": "white",
            "ticks": ""
           },
           "baxis": {
            "gridcolor": "white",
            "linecolor": "white",
            "ticks": ""
           },
           "bgcolor": "#E5ECF6",
           "caxis": {
            "gridcolor": "white",
            "linecolor": "white",
            "ticks": ""
           }
          },
          "title": {
           "x": 0.05
          },
          "xaxis": {
           "automargin": true,
           "gridcolor": "white",
           "linecolor": "white",
           "ticks": "",
           "title": {
            "standoff": 15
           },
           "zerolinecolor": "white",
           "zerolinewidth": 2
          },
          "yaxis": {
           "automargin": true,
           "gridcolor": "white",
           "linecolor": "white",
           "ticks": "",
           "title": {
            "standoff": 15
           },
           "zerolinecolor": "white",
           "zerolinewidth": 2
          }
         }
        },
        "width": 1100,
        "xaxis": {
         "categoryarray": [
          "Brainchop",
          "CTBET",
          "CT_BET",
          "CTbet_Docker",
          "HD-CTBET",
          "Robust-CTBET",
          "SynthStrip"
         ],
         "categoryorder": "array",
         "tickmode": "array",
         "ticktext": [
          "Brainchop",
          "CTBET",
          "CT_BET",
          "CTbet_Docker",
          "HD-CTBET",
          "Robust-CTBET",
          "SynthStrip"
         ],
         "tickvals": [
          "Brainchop",
          "CTBET",
          "CT_BET",
          "CTbet_Docker",
          "HD-CTBET",
          "Robust-CTBET",
          "SynthStrip"
         ],
         "title": {
          "text": "Method"
         }
        },
        "yaxis": {
         "title": {
          "text": "Hausdorff Distance (HD95) (mm)"
         }
        }
       }
      }
     },
     "metadata": {},
     "output_type": "display_data"
    }
   ],
   "source": [
    "import plotly.graph_objects as go\n",
    "import plotly.express as px\n",
    "\n",
    "datasets = sorted(all_df['Dataset'].unique())\n",
    "methods  = sorted(all_df['method_A'].unique())\n",
    "\n",
    "# Custom dark, color-blind friendly colors per dataset\n",
    "# Explicit mapping for reproducibility; extend if new datasets appear.\n",
    "custom_dataset_colors = {\n",
    "    'JH_Head_CT': '#264653',        # dark teal\n",
    "    'CERMEP-IDB-MRXFDG': '#6a4c93', # dark purple\n",
    "    'MISTIE_III': '#b23a48',        # deep wine red\n",
    "}\n",
    "# Fallback palette (Dark2) for any dataset not in the explicit map\n",
    "fallback_colors = px.colors.qualitative.Dark2\n",
    "for i, ds in enumerate(datasets):\n",
    "    if ds not in custom_dataset_colors:\n",
    "        custom_dataset_colors[ds] = fallback_colors[i % len(fallback_colors)]\n",
    "\n",
    "fig = go.Figure()\n",
    "\n",
    "# One trace per dataset; Plotly groups by x (method)\n",
    "for ds in datasets:\n",
    "    d = all_df[all_df['Dataset'] == ds]\n",
    "    if d.empty:\n",
    "        continue\n",
    "    fig.add_trace(go.Box(\n",
    "        x=d['method_A'],                # categories = methods\n",
    "        y=d['hd95_mm'],\n",
    "        name=ds,                        # legend per dataset\n",
    "        marker_color=custom_dataset_colors[ds],\n",
    "        boxpoints='outliers',\n",
    "        jitter=0,\n",
    "        pointpos=0,\n",
    "        legendgroup=ds,\n",
    "        offsetgroup=ds,                 # group within each method\n",
    "        alignmentgroup='all',\n",
    "        hovertemplate='Dataset: '+ds+'<br>Method: %{x}<br>Hausdorff Distance (HD95) (mm): %{y:.3f}<extra></extra>'\n",
    "    ))\n",
    "\n",
    "fig.update_layout(\n",
    "    boxmode='group',\n",
    "    width=1100, height=600,\n",
    "    margin=dict(l=60, r=30, t=60, b=50),\n",
    "    legend=dict(orientation='h', yanchor='bottom', y=1.02, xanchor='left', x=0, title=None),\n",
    "    font=dict(size=13)\n",
    ")\n",
    "fig.update_xaxes(title_text='Method',\n",
    "                 categoryorder='array', categoryarray=methods, tickmode='array',\n",
    "                 tickvals=methods, ticktext=methods)\n",
    "fig.update_yaxes(title_text='Hausdorff Distance (HD95) (mm)')\n",
    "\n",
    "fig.show()"
   ]
  },
  {
   "cell_type": "code",
   "execution_count": 22,
   "id": "75343808",
   "metadata": {},
   "outputs": [
    {
     "data": {
      "application/vnd.plotly.v1+json": {
       "config": {
        "plotlyServerURL": "https://plot.ly"
       },
       "data": [
        {
         "alignmentgroup": "all",
         "boxpoints": "outliers",
         "hovertemplate": "Dataset: CERMEP-IDB-MRXFDG<br>Method: %{x}<br>Mean Squared Distance (mm): %{y:.3f}<extra></extra>",
         "jitter": 0,
         "legendgroup": "CERMEP-IDB-MRXFDG",
         "marker": {
          "color": "#6a4c93"
         },
         "name": "CERMEP-IDB-MRXFDG",
         "offsetgroup": "CERMEP-IDB-MRXFDG",
         "pointpos": 0,
         "type": "box",
         "x": [
          "Brainchop",
          "HD-CTBET",
          "SynthStrip",
          "CTBET",
          "Robust-CTBET",
          "CT_BET",
          "CTbet_Docker",
          "Brainchop",
          "HD-CTBET",
          "SynthStrip",
          "CTBET",
          "Robust-CTBET",
          "CT_BET",
          "CTbet_Docker",
          "Brainchop",
          "HD-CTBET",
          "SynthStrip",
          "CTBET",
          "Robust-CTBET",
          "CT_BET",
          "CTbet_Docker",
          "Brainchop",
          "HD-CTBET",
          "SynthStrip",
          "CTBET",
          "Robust-CTBET",
          "CT_BET",
          "CTbet_Docker",
          "Brainchop",
          "HD-CTBET",
          "SynthStrip",
          "CTBET",
          "Robust-CTBET",
          "CT_BET",
          "CTbet_Docker",
          "Brainchop",
          "HD-CTBET",
          "SynthStrip",
          "CTBET",
          "Robust-CTBET",
          "CT_BET",
          "CTbet_Docker",
          "Brainchop",
          "HD-CTBET",
          "SynthStrip",
          "CTBET",
          "Robust-CTBET",
          "CT_BET",
          "CTbet_Docker",
          "Brainchop",
          "HD-CTBET",
          "SynthStrip",
          "CTBET",
          "Robust-CTBET",
          "CT_BET",
          "CTbet_Docker",
          "Brainchop",
          "HD-CTBET",
          "SynthStrip",
          "CTBET",
          "Robust-CTBET",
          "CT_BET",
          "CTbet_Docker",
          "Brainchop",
          "HD-CTBET",
          "SynthStrip",
          "CTBET",
          "Robust-CTBET",
          "CT_BET",
          "CTbet_Docker",
          "Brainchop",
          "HD-CTBET",
          "SynthStrip",
          "CTBET",
          "Robust-CTBET",
          "CT_BET",
          "CTbet_Docker",
          "Brainchop",
          "HD-CTBET",
          "SynthStrip",
          "CTBET",
          "Robust-CTBET",
          "CT_BET",
          "CTbet_Docker",
          "Brainchop",
          "HD-CTBET",
          "SynthStrip",
          "CTBET",
          "Robust-CTBET",
          "CT_BET",
          "CTbet_Docker",
          "Brainchop",
          "HD-CTBET",
          "SynthStrip",
          "CTBET",
          "Robust-CTBET",
          "CT_BET",
          "CTbet_Docker",
          "Brainchop",
          "HD-CTBET",
          "SynthStrip",
          "CTBET",
          "Robust-CTBET",
          "CT_BET",
          "CTbet_Docker",
          "Brainchop",
          "HD-CTBET",
          "SynthStrip",
          "CTBET",
          "Robust-CTBET",
          "CT_BET",
          "CTbet_Docker",
          "Brainchop",
          "HD-CTBET",
          "SynthStrip",
          "CTBET",
          "Robust-CTBET",
          "CT_BET",
          "CTbet_Docker",
          "Brainchop",
          "HD-CTBET",
          "SynthStrip",
          "CTBET",
          "Robust-CTBET",
          "CT_BET",
          "CTbet_Docker",
          "Brainchop",
          "HD-CTBET",
          "SynthStrip",
          "CTBET",
          "Robust-CTBET",
          "CT_BET",
          "CTbet_Docker",
          "Brainchop",
          "HD-CTBET",
          "SynthStrip",
          "CTBET",
          "Robust-CTBET",
          "CT_BET",
          "CTbet_Docker"
         ],
         "y": {
          "bdata": "y6FFtvP98D/wp8ZLN4ntP2ZmZmZmZvg/mpmZmZmZC0BWDi2yne/xP0Jg5dAi2/M/UI2XbhKD8j+DwMqhRbb3PzeJQWDl0O4/gZVDi2znAkCiRbbz/dT4P+f7qfHSTfg/BoGVQ4ts+z+amZmZmZn5PwwCK4cW2fw/mG4Sg8DK8z/l0CLb+X4FQARWDi2ynfk/MzMzMzMz+T9xPQrXo3D7PzMzMzMzM/s/kxgEVg4t+j9I4XoUrkfzP3E9CtejcARAEoPAyqFFCUDD9Shcj8L3P7bz/dR46fo/BoGVQ4ts+T8tsp3vp8b3PyuHFtnO9/c/F9nO91PjAUAOLbKd76f0Pw4tsp3vp/Q/+FPjpZvE+D9GtvP91Hj1PwisHFpkOwRAzczMzMzM+D9/arx0kxgFQHE9CtejcAVA9ihcj8L1+D9SuB6F61H6Pw4tsp3vp/o/cT0K16Nw9T99PzVeuknwP2Dl0CLb+QFA7nw/NV46K0CYbhKDwMrzPzvfT42Xbvg/SgwCK4cW9T91kxgEVg7xP+Olm8QgsPA/eekmMQis+j/TTWIQWDk8QFg5tMh2vvE/arx0kxgE9D8lBoGVQ4vyPwIrhxbZzvc/vHSTGARW9D8AAAAAAAD6P6rx0k1ikDVAd76fGi/d7D/LoUW28/3wP8HKoUW28+0/0SLb+X5qAUD0/dR46Sb3PxkEVg4tsgNArkfhehSu9z/sUbgehev1P6abxCCwcvY/46WbxCCw9j+YbhKDwMr1P9Ei2/l+avI/hxbZzvdTAEBGtvP91LgmQO58PzVeuvE/EFg5tMh29j81XrpJDALzP0Jg5dAi2/k/5/up8dJN8j89CtejcD0BQPp+arx00zZAtvP91Hjp8j8rhxbZzvf1P2q8dJMYBPQ/30+Nl24SAECgGi/dJAYAQGq8dJMYBAZAnMQgsHJo+T9WDi2yne/3P3Noke18P/k/16NwPQrX+T8fhetRuB77P5qZmZmZmfc//Knx0k1iA0CkcD0K1xtSQKjGSzeJQfY/vHSTGARW+D8rhxbZzvf3P3E9CtejcP8/H4XrUbge+T+8dJMYBFYAQJHtfD81DkBAJzEIrBxa9j8/NV66SQz0P9V46SYxCPI/7FG4HoXrAEDJdr6fGi/7P39qvHSTGAVAZDvfT42XAEAj2/l+arz4P23n+6nx0vk/F9nO91Pj+T/P91PjpZsDQAAAAAAAAAJAzczMzMzMBUB7FK5H4Xr6P6RwPQrXo/o/9P3UeOkm/T9OYhBYObT8P5ZDi2zn+/k/5/up8dJN8D9oke18PzX+P+f7qfHSTfI//tR46SYx8j9xPQrXo3D1PwaBlUOLbPM/AAAAAAAABECNl24Sg8DwP3E9CtejcPs/ObTIdr5fOECBlUOLbOfvP23n+6nx0vE/nu+nxks38T/+1HjpJjH+P8HKoUW28/E/+FPjpZvEAkDLoUW28/32P2iR7Xw/NfY/O99PjZdu+D/y0k1iEFj3Pw==",
          "dtype": "f8"
         }
        },
        {
         "alignmentgroup": "all",
         "boxpoints": "outliers",
         "hovertemplate": "Dataset: JH_Head_CT<br>Method: %{x}<br>Mean Squared Distance (mm): %{y:.3f}<extra></extra>",
         "jitter": 0,
         "legendgroup": "JH_Head_CT",
         "marker": {
          "color": "#264653"
         },
         "name": "JH_Head_CT",
         "offsetgroup": "JH_Head_CT",
         "pointpos": 0,
         "type": "box",
         "x": [
          "Brainchop",
          "HD-CTBET",
          "SynthStrip",
          "CTBET",
          "Robust-CTBET",
          "CT_BET",
          "CTbet_Docker",
          "Brainchop",
          "HD-CTBET",
          "SynthStrip",
          "CTBET",
          "Robust-CTBET",
          "CT_BET",
          "CTbet_Docker",
          "Brainchop",
          "HD-CTBET",
          "SynthStrip",
          "CTBET",
          "Robust-CTBET",
          "CTbet_Docker",
          "Brainchop",
          "HD-CTBET",
          "SynthStrip",
          "CTBET",
          "Robust-CTBET",
          "CT_BET",
          "CTbet_Docker",
          "Brainchop",
          "HD-CTBET",
          "SynthStrip",
          "CTBET",
          "Robust-CTBET",
          "CTbet_Docker",
          "Brainchop",
          "HD-CTBET",
          "SynthStrip",
          "CTBET",
          "Robust-CTBET",
          "CT_BET",
          "CTbet_Docker",
          "Brainchop",
          "HD-CTBET",
          "SynthStrip",
          "CTBET",
          "Robust-CTBET",
          "CTbet_Docker",
          "Brainchop",
          "HD-CTBET",
          "SynthStrip",
          "CTBET",
          "Robust-CTBET",
          "CTbet_Docker",
          "Brainchop",
          "HD-CTBET",
          "SynthStrip",
          "CTBET",
          "Robust-CTBET",
          "CT_BET",
          "CTbet_Docker",
          "Brainchop",
          "HD-CTBET",
          "SynthStrip",
          "CTBET",
          "Robust-CTBET",
          "CTbet_Docker",
          "Brainchop",
          "HD-CTBET",
          "SynthStrip",
          "CTBET",
          "Robust-CTBET",
          "CTbet_Docker",
          "Brainchop",
          "HD-CTBET",
          "SynthStrip",
          "CTBET",
          "Robust-CTBET",
          "CTbet_Docker",
          "Brainchop",
          "HD-CTBET",
          "SynthStrip",
          "CTBET",
          "Robust-CTBET",
          "CTbet_Docker",
          "Brainchop",
          "HD-CTBET",
          "SynthStrip",
          "CTBET",
          "Robust-CTBET",
          "CT_BET",
          "CTbet_Docker",
          "Brainchop",
          "HD-CTBET",
          "SynthStrip",
          "CTBET",
          "Robust-CTBET",
          "CTbet_Docker",
          "Brainchop",
          "HD-CTBET",
          "SynthStrip",
          "CTBET",
          "Robust-CTBET",
          "CTbet_Docker",
          "Brainchop",
          "HD-CTBET",
          "SynthStrip",
          "CTBET",
          "Robust-CTBET",
          "CT_BET",
          "CTbet_Docker",
          "Brainchop",
          "HD-CTBET",
          "SynthStrip",
          "CTBET",
          "Robust-CTBET",
          "CTbet_Docker",
          "Brainchop",
          "HD-CTBET",
          "SynthStrip",
          "CTBET",
          "Robust-CTBET",
          "CT_BET",
          "CTbet_Docker",
          "Brainchop",
          "HD-CTBET",
          "SynthStrip",
          "CTBET",
          "Robust-CTBET",
          "CT_BET",
          "CTbet_Docker",
          "Brainchop",
          "HD-CTBET",
          "SynthStrip",
          "CTBET",
          "Robust-CTBET",
          "CT_BET",
          "CTbet_Docker",
          "Brainchop",
          "HD-CTBET",
          "SynthStrip",
          "CTBET",
          "Robust-CTBET",
          "CTbet_Docker",
          "Brainchop",
          "HD-CTBET",
          "SynthStrip",
          "CTBET",
          "Robust-CTBET",
          "CTbet_Docker",
          "Brainchop",
          "HD-CTBET",
          "SynthStrip",
          "CTBET",
          "Robust-CTBET",
          "CTbet_Docker",
          "Brainchop",
          "HD-CTBET",
          "SynthStrip",
          "CTBET",
          "Robust-CTBET",
          "CTbet_Docker",
          "Brainchop",
          "HD-CTBET",
          "SynthStrip",
          "CTBET",
          "Robust-CTBET",
          "CT_BET",
          "CTbet_Docker",
          "Brainchop",
          "HD-CTBET",
          "SynthStrip",
          "CTBET",
          "Robust-CTBET",
          "CTbet_Docker",
          "Brainchop",
          "HD-CTBET",
          "SynthStrip",
          "CTBET",
          "Robust-CTBET",
          "CTbet_Docker",
          "Brainchop",
          "HD-CTBET",
          "SynthStrip",
          "CTBET",
          "Robust-CTBET",
          "CT_BET",
          "CTbet_Docker",
          "Brainchop",
          "HD-CTBET",
          "SynthStrip",
          "CTBET",
          "Robust-CTBET",
          "CTbet_Docker",
          "Brainchop",
          "HD-CTBET",
          "SynthStrip",
          "CTBET",
          "Robust-CTBET",
          "CT_BET",
          "CTbet_Docker",
          "Brainchop",
          "HD-CTBET",
          "SynthStrip",
          "CTBET",
          "Robust-CTBET",
          "CTbet_Docker",
          "Brainchop",
          "HD-CTBET",
          "SynthStrip",
          "CTBET",
          "Robust-CTBET",
          "CTbet_Docker",
          "Brainchop",
          "HD-CTBET",
          "SynthStrip",
          "CTBET",
          "Robust-CTBET",
          "CT_BET",
          "CTbet_Docker",
          "Brainchop",
          "HD-CTBET",
          "SynthStrip",
          "CTBET",
          "Robust-CTBET",
          "CTbet_Docker"
         ],
         "y": {
          "bdata": "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",
          "dtype": "f8"
         }
        },
        {
         "alignmentgroup": "all",
         "boxpoints": "outliers",
         "hovertemplate": "Dataset: MISTIE_III<br>Method: %{x}<br>Mean Squared Distance (mm): %{y:.3f}<extra></extra>",
         "jitter": 0,
         "legendgroup": "MISTIE_III",
         "marker": {
          "color": "#b23a48"
         },
         "name": "MISTIE_III",
         "offsetgroup": "MISTIE_III",
         "pointpos": 0,
         "type": "box",
         "x": [
          "Brainchop",
          "HD-CTBET",
          "SynthStrip",
          "CTBET",
          "Robust-CTBET",
          "CTbet_Docker",
          "Brainchop",
          "HD-CTBET",
          "SynthStrip",
          "CTBET",
          "Robust-CTBET",
          "CT_BET",
          "CTbet_Docker",
          "Brainchop",
          "HD-CTBET",
          "SynthStrip",
          "CTBET",
          "Robust-CTBET",
          "CT_BET",
          "CTbet_Docker",
          "Brainchop",
          "HD-CTBET",
          "SynthStrip",
          "CTBET",
          "Robust-CTBET",
          "CT_BET",
          "CTbet_Docker",
          "Brainchop",
          "HD-CTBET",
          "SynthStrip",
          "CTBET",
          "Robust-CTBET",
          "CTbet_Docker",
          "Brainchop",
          "HD-CTBET",
          "SynthStrip",
          "CTBET",
          "Robust-CTBET",
          "CTbet_Docker",
          "Brainchop",
          "HD-CTBET",
          "SynthStrip",
          "CTBET",
          "Robust-CTBET",
          "CT_BET",
          "CTbet_Docker",
          "Brainchop",
          "HD-CTBET",
          "SynthStrip",
          "CTBET",
          "Robust-CTBET",
          "CT_BET",
          "CTbet_Docker",
          "Brainchop",
          "HD-CTBET",
          "SynthStrip",
          "CTBET",
          "Robust-CTBET",
          "CT_BET",
          "CTbet_Docker",
          "Brainchop",
          "HD-CTBET",
          "SynthStrip",
          "CTBET",
          "Robust-CTBET",
          "CT_BET",
          "CTbet_Docker"
         ],
         "y": {
          "bdata": "z/dT46WbFEDsUbgehesDQNV46SYxCBdAvHSTGATWEUCF61G4HgUWQJZDi2zn++E/hetRuB6F5z/D9Shcj8L1PxfZzvdT4+0/IbByaJHtvD/Jdr6fGi+9PyUGgZVDi9Q/ke18PzVeyj9eukkMAiv9P4GVQ4ts5/8/H4XrUbgeBUA/NV66SQziPxfZzvdT4+E/bef7qfHSAEC6SQwCK4fmP2IQWDm0SBRAaJHtfD81EUAtsp3vp8YVQAwCK4cW2QpAy6FFtvP9DEB56SYxCKzMP1g5tMh2vtc/tMh2vp8a9T/+1HjpJjH6Py/dJAaBlf8/ppvEILBy2D9U46WbxCDYP9nO91Pjpds/EFg5tMh2CUAGgZVDi2wEQAAAAAAAAAdAexSuR+F61D8730+Nl27aP+58PzVeuvc/TDeJQWDl/j/sUbgehesAQLx0kxgEVgRAMzMzMzMzwz9Ei2zn+6nBP1yPwvUoXNc/wcqhRbbz3T9GtvP91HgOQPp+arx0kwJAUI2XbhLDJUAOLbKd76fWP7bz/dR46dY/8tJNYhBYBkBYObTIdr7jPz0K16NwPfI/tvP91Hjp8j/n+6nx0k32Py/dJAaBldM/MQisHFpk0z9OYhBYObTkP4XrUbgehdM/VOOlm8Qg9j8Sg8DKoUXuP8uhRbbz/fQ/GQRWDi2y1T9xPQrXo3DVP2IQWDm0yNY/sp3vp8ZL1z8=",
          "dtype": "f8"
         }
        }
       ],
       "layout": {
        "boxmode": "group",
        "font": {
         "size": 13
        },
        "height": 600,
        "legend": {
         "orientation": "h",
         "title": {},
         "x": 0,
         "xanchor": "left",
         "y": 1.02,
         "yanchor": "bottom"
        },
        "margin": {
         "b": 50,
         "l": 60,
         "r": 30,
         "t": 60
        },
        "template": {
         "data": {
          "bar": [
           {
            "error_x": {
             "color": "#2a3f5f"
            },
            "error_y": {
             "color": "#2a3f5f"
            },
            "marker": {
             "line": {
              "color": "#E5ECF6",
              "width": 0.5
             },
             "pattern": {
              "fillmode": "overlay",
              "size": 10,
              "solidity": 0.2
             }
            },
            "type": "bar"
           }
          ],
          "barpolar": [
           {
            "marker": {
             "line": {
              "color": "#E5ECF6",
              "width": 0.5
             },
             "pattern": {
              "fillmode": "overlay",
              "size": 10,
              "solidity": 0.2
             }
            },
            "type": "barpolar"
           }
          ],
          "carpet": [
           {
            "aaxis": {
             "endlinecolor": "#2a3f5f",
             "gridcolor": "white",
             "linecolor": "white",
             "minorgridcolor": "white",
             "startlinecolor": "#2a3f5f"
            },
            "baxis": {
             "endlinecolor": "#2a3f5f",
             "gridcolor": "white",
             "linecolor": "white",
             "minorgridcolor": "white",
             "startlinecolor": "#2a3f5f"
            },
            "type": "carpet"
           }
          ],
          "choropleth": [
           {
            "colorbar": {
             "outlinewidth": 0,
             "ticks": ""
            },
            "type": "choropleth"
           }
          ],
          "contour": [
           {
            "colorbar": {
             "outlinewidth": 0,
             "ticks": ""
            },
            "colorscale": [
             [
              0,
              "#0d0887"
             ],
             [
              0.1111111111111111,
              "#46039f"
             ],
             [
              0.2222222222222222,
              "#7201a8"
             ],
             [
              0.3333333333333333,
              "#9c179e"
             ],
             [
              0.4444444444444444,
              "#bd3786"
             ],
             [
              0.5555555555555556,
              "#d8576b"
             ],
             [
              0.6666666666666666,
              "#ed7953"
             ],
             [
              0.7777777777777778,
              "#fb9f3a"
             ],
             [
              0.8888888888888888,
              "#fdca26"
             ],
             [
              1,
              "#f0f921"
             ]
            ],
            "type": "contour"
           }
          ],
          "contourcarpet": [
           {
            "colorbar": {
             "outlinewidth": 0,
             "ticks": ""
            },
            "type": "contourcarpet"
           }
          ],
          "heatmap": [
           {
            "colorbar": {
             "outlinewidth": 0,
             "ticks": ""
            },
            "colorscale": [
             [
              0,
              "#0d0887"
             ],
             [
              0.1111111111111111,
              "#46039f"
             ],
             [
              0.2222222222222222,
              "#7201a8"
             ],
             [
              0.3333333333333333,
              "#9c179e"
             ],
             [
              0.4444444444444444,
              "#bd3786"
             ],
             [
              0.5555555555555556,
              "#d8576b"
             ],
             [
              0.6666666666666666,
              "#ed7953"
             ],
             [
              0.7777777777777778,
              "#fb9f3a"
             ],
             [
              0.8888888888888888,
              "#fdca26"
             ],
             [
              1,
              "#f0f921"
             ]
            ],
            "type": "heatmap"
           }
          ],
          "histogram": [
           {
            "marker": {
             "pattern": {
              "fillmode": "overlay",
              "size": 10,
              "solidity": 0.2
             }
            },
            "type": "histogram"
           }
          ],
          "histogram2d": [
           {
            "colorbar": {
             "outlinewidth": 0,
             "ticks": ""
            },
            "colorscale": [
             [
              0,
              "#0d0887"
             ],
             [
              0.1111111111111111,
              "#46039f"
             ],
             [
              0.2222222222222222,
              "#7201a8"
             ],
             [
              0.3333333333333333,
              "#9c179e"
             ],
             [
              0.4444444444444444,
              "#bd3786"
             ],
             [
              0.5555555555555556,
              "#d8576b"
             ],
             [
              0.6666666666666666,
              "#ed7953"
             ],
             [
              0.7777777777777778,
              "#fb9f3a"
             ],
             [
              0.8888888888888888,
              "#fdca26"
             ],
             [
              1,
              "#f0f921"
             ]
            ],
            "type": "histogram2d"
           }
          ],
          "histogram2dcontour": [
           {
            "colorbar": {
             "outlinewidth": 0,
             "ticks": ""
            },
            "colorscale": [
             [
              0,
              "#0d0887"
             ],
             [
              0.1111111111111111,
              "#46039f"
             ],
             [
              0.2222222222222222,
              "#7201a8"
             ],
             [
              0.3333333333333333,
              "#9c179e"
             ],
             [
              0.4444444444444444,
              "#bd3786"
             ],
             [
              0.5555555555555556,
              "#d8576b"
             ],
             [
              0.6666666666666666,
              "#ed7953"
             ],
             [
              0.7777777777777778,
              "#fb9f3a"
             ],
             [
              0.8888888888888888,
              "#fdca26"
             ],
             [
              1,
              "#f0f921"
             ]
            ],
            "type": "histogram2dcontour"
           }
          ],
          "mesh3d": [
           {
            "colorbar": {
             "outlinewidth": 0,
             "ticks": ""
            },
            "type": "mesh3d"
           }
          ],
          "parcoords": [
           {
            "line": {
             "colorbar": {
              "outlinewidth": 0,
              "ticks": ""
             }
            },
            "type": "parcoords"
           }
          ],
          "pie": [
           {
            "automargin": true,
            "type": "pie"
           }
          ],
          "scatter": [
           {
            "fillpattern": {
             "fillmode": "overlay",
             "size": 10,
             "solidity": 0.2
            },
            "type": "scatter"
           }
          ],
          "scatter3d": [
           {
            "line": {
             "colorbar": {
              "outlinewidth": 0,
              "ticks": ""
             }
            },
            "marker": {
             "colorbar": {
              "outlinewidth": 0,
              "ticks": ""
             }
            },
            "type": "scatter3d"
           }
          ],
          "scattercarpet": [
           {
            "marker": {
             "colorbar": {
              "outlinewidth": 0,
              "ticks": ""
             }
            },
            "type": "scattercarpet"
           }
          ],
          "scattergeo": [
           {
            "marker": {
             "colorbar": {
              "outlinewidth": 0,
              "ticks": ""
             }
            },
            "type": "scattergeo"
           }
          ],
          "scattergl": [
           {
            "marker": {
             "colorbar": {
              "outlinewidth": 0,
              "ticks": ""
             }
            },
            "type": "scattergl"
           }
          ],
          "scattermap": [
           {
            "marker": {
             "colorbar": {
              "outlinewidth": 0,
              "ticks": ""
             }
            },
            "type": "scattermap"
           }
          ],
          "scattermapbox": [
           {
            "marker": {
             "colorbar": {
              "outlinewidth": 0,
              "ticks": ""
             }
            },
            "type": "scattermapbox"
           }
          ],
          "scatterpolar": [
           {
            "marker": {
             "colorbar": {
              "outlinewidth": 0,
              "ticks": ""
             }
            },
            "type": "scatterpolar"
           }
          ],
          "scatterpolargl": [
           {
            "marker": {
             "colorbar": {
              "outlinewidth": 0,
              "ticks": ""
             }
            },
            "type": "scatterpolargl"
           }
          ],
          "scatterternary": [
           {
            "marker": {
             "colorbar": {
              "outlinewidth": 0,
              "ticks": ""
             }
            },
            "type": "scatterternary"
           }
          ],
          "surface": [
           {
            "colorbar": {
             "outlinewidth": 0,
             "ticks": ""
            },
            "colorscale": [
             [
              0,
              "#0d0887"
             ],
             [
              0.1111111111111111,
              "#46039f"
             ],
             [
              0.2222222222222222,
              "#7201a8"
             ],
             [
              0.3333333333333333,
              "#9c179e"
             ],
             [
              0.4444444444444444,
              "#bd3786"
             ],
             [
              0.5555555555555556,
              "#d8576b"
             ],
             [
              0.6666666666666666,
              "#ed7953"
             ],
             [
              0.7777777777777778,
              "#fb9f3a"
             ],
             [
              0.8888888888888888,
              "#fdca26"
             ],
             [
              1,
              "#f0f921"
             ]
            ],
            "type": "surface"
           }
          ],
          "table": [
           {
            "cells": {
             "fill": {
              "color": "#EBF0F8"
             },
             "line": {
              "color": "white"
             }
            },
            "header": {
             "fill": {
              "color": "#C8D4E3"
             },
             "line": {
              "color": "white"
             }
            },
            "type": "table"
           }
          ]
         },
         "layout": {
          "annotationdefaults": {
           "arrowcolor": "#2a3f5f",
           "arrowhead": 0,
           "arrowwidth": 1
          },
          "autotypenumbers": "strict",
          "coloraxis": {
           "colorbar": {
            "outlinewidth": 0,
            "ticks": ""
           }
          },
          "colorscale": {
           "diverging": [
            [
             0,
             "#8e0152"
            ],
            [
             0.1,
             "#c51b7d"
            ],
            [
             0.2,
             "#de77ae"
            ],
            [
             0.3,
             "#f1b6da"
            ],
            [
             0.4,
             "#fde0ef"
            ],
            [
             0.5,
             "#f7f7f7"
            ],
            [
             0.6,
             "#e6f5d0"
            ],
            [
             0.7,
             "#b8e186"
            ],
            [
             0.8,
             "#7fbc41"
            ],
            [
             0.9,
             "#4d9221"
            ],
            [
             1,
             "#276419"
            ]
           ],
           "sequential": [
            [
             0,
             "#0d0887"
            ],
            [
             0.1111111111111111,
             "#46039f"
            ],
            [
             0.2222222222222222,
             "#7201a8"
            ],
            [
             0.3333333333333333,
             "#9c179e"
            ],
            [
             0.4444444444444444,
             "#bd3786"
            ],
            [
             0.5555555555555556,
             "#d8576b"
            ],
            [
             0.6666666666666666,
             "#ed7953"
            ],
            [
             0.7777777777777778,
             "#fb9f3a"
            ],
            [
             0.8888888888888888,
             "#fdca26"
            ],
            [
             1,
             "#f0f921"
            ]
           ],
           "sequentialminus": [
            [
             0,
             "#0d0887"
            ],
            [
             0.1111111111111111,
             "#46039f"
            ],
            [
             0.2222222222222222,
             "#7201a8"
            ],
            [
             0.3333333333333333,
             "#9c179e"
            ],
            [
             0.4444444444444444,
             "#bd3786"
            ],
            [
             0.5555555555555556,
             "#d8576b"
            ],
            [
             0.6666666666666666,
             "#ed7953"
            ],
            [
             0.7777777777777778,
             "#fb9f3a"
            ],
            [
             0.8888888888888888,
             "#fdca26"
            ],
            [
             1,
             "#f0f921"
            ]
           ]
          },
          "colorway": [
           "#636efa",
           "#EF553B",
           "#00cc96",
           "#ab63fa",
           "#FFA15A",
           "#19d3f3",
           "#FF6692",
           "#B6E880",
           "#FF97FF",
           "#FECB52"
          ],
          "font": {
           "color": "#2a3f5f"
          },
          "geo": {
           "bgcolor": "white",
           "lakecolor": "white",
           "landcolor": "#E5ECF6",
           "showlakes": true,
           "showland": true,
           "subunitcolor": "white"
          },
          "hoverlabel": {
           "align": "left"
          },
          "hovermode": "closest",
          "mapbox": {
           "style": "light"
          },
          "paper_bgcolor": "white",
          "plot_bgcolor": "#E5ECF6",
          "polar": {
           "angularaxis": {
            "gridcolor": "white",
            "linecolor": "white",
            "ticks": ""
           },
           "bgcolor": "#E5ECF6",
           "radialaxis": {
            "gridcolor": "white",
            "linecolor": "white",
            "ticks": ""
           }
          },
          "scene": {
           "xaxis": {
            "backgroundcolor": "#E5ECF6",
            "gridcolor": "white",
            "gridwidth": 2,
            "linecolor": "white",
            "showbackground": true,
            "ticks": "",
            "zerolinecolor": "white"
           },
           "yaxis": {
            "backgroundcolor": "#E5ECF6",
            "gridcolor": "white",
            "gridwidth": 2,
            "linecolor": "white",
            "showbackground": true,
            "ticks": "",
            "zerolinecolor": "white"
           },
           "zaxis": {
            "backgroundcolor": "#E5ECF6",
            "gridcolor": "white",
            "gridwidth": 2,
            "linecolor": "white",
            "showbackground": true,
            "ticks": "",
            "zerolinecolor": "white"
           }
          },
          "shapedefaults": {
           "line": {
            "color": "#2a3f5f"
           }
          },
          "ternary": {
           "aaxis": {
            "gridcolor": "white",
            "linecolor": "white",
            "ticks": ""
           },
           "baxis": {
            "gridcolor": "white",
            "linecolor": "white",
            "ticks": ""
           },
           "bgcolor": "#E5ECF6",
           "caxis": {
            "gridcolor": "white",
            "linecolor": "white",
            "ticks": ""
           }
          },
          "title": {
           "x": 0.05
          },
          "xaxis": {
           "automargin": true,
           "gridcolor": "white",
           "linecolor": "white",
           "ticks": "",
           "title": {
            "standoff": 15
           },
           "zerolinecolor": "white",
           "zerolinewidth": 2
          },
          "yaxis": {
           "automargin": true,
           "gridcolor": "white",
           "linecolor": "white",
           "ticks": "",
           "title": {
            "standoff": 15
           },
           "zerolinecolor": "white",
           "zerolinewidth": 2
          }
         }
        },
        "width": 1100,
        "xaxis": {
         "categoryarray": [
          "Brainchop",
          "CTBET",
          "CT_BET",
          "CTbet_Docker",
          "HD-CTBET",
          "Robust-CTBET",
          "SynthStrip"
         ],
         "categoryorder": "array",
         "tickmode": "array",
         "ticktext": [
          "Brainchop",
          "CTBET",
          "CT_BET",
          "CTbet_Docker",
          "HD-CTBET",
          "Robust-CTBET",
          "SynthStrip"
         ],
         "tickvals": [
          "Brainchop",
          "CTBET",
          "CT_BET",
          "CTbet_Docker",
          "HD-CTBET",
          "Robust-CTBET",
          "SynthStrip"
         ],
         "title": {
          "text": "Method"
         }
        },
        "yaxis": {
         "title": {
          "text": "Mean Squared Distance (mm)"
         }
        }
       }
      }
     },
     "metadata": {},
     "output_type": "display_data"
    }
   ],
   "source": [
    "import plotly.graph_objects as go\n",
    "import plotly.express as px\n",
    "\n",
    "datasets = sorted(all_df['Dataset'].unique())\n",
    "methods  = sorted(all_df['method_A'].unique())\n",
    "\n",
    "# Custom dark, color-blind friendly colors per dataset\n",
    "# Explicit mapping for reproducibility; extend if new datasets appear.\n",
    "custom_dataset_colors = {\n",
    "    'JH_Head_CT': '#264653',        # dark teal\n",
    "    'CERMEP-IDB-MRXFDG': '#6a4c93', # dark purple\n",
    "    'MISTIE_III': '#b23a48',        # deep wine red\n",
    "}\n",
    "# Fallback palette (Dark2) for any dataset not in the explicit map\n",
    "fallback_colors = px.colors.qualitative.Dark2\n",
    "for i, ds in enumerate(datasets):\n",
    "    if ds not in custom_dataset_colors:\n",
    "        custom_dataset_colors[ds] = fallback_colors[i % len(fallback_colors)]\n",
    "\n",
    "fig = go.Figure()\n",
    "\n",
    "# One trace per dataset; Plotly groups by x (method)\n",
    "for ds in datasets:\n",
    "    d = all_df[all_df['Dataset'] == ds]\n",
    "    if d.empty:\n",
    "        continue\n",
    "    fig.add_trace(go.Box(\n",
    "        x=d['method_A'],                # categories = methods\n",
    "        y=d['msd_mm'],\n",
    "        name=ds,                        # legend per dataset\n",
    "        marker_color=custom_dataset_colors[ds],\n",
    "        boxpoints='outliers',\n",
    "        jitter=0,\n",
    "        pointpos=0,\n",
    "        legendgroup=ds,\n",
    "        offsetgroup=ds,                 # group within each method\n",
    "        alignmentgroup='all',\n",
    "        hovertemplate='Dataset: '+ds+'<br>Method: %{x}<br>Mean Squared Distance (mm): %{y:.3f}<extra></extra>'\n",
    "    ))\n",
    "\n",
    "fig.update_layout(\n",
    "    boxmode='group',\n",
    "    width=1100, height=600,\n",
    "    margin=dict(l=60, r=30, t=60, b=50),\n",
    "    legend=dict(orientation='h', yanchor='bottom', y=1.02, xanchor='left', x=0, title=None),\n",
    "    font=dict(size=13)\n",
    ")\n",
    "fig.update_xaxes(title_text='Method',\n",
    "                 categoryorder='array', categoryarray=methods, tickmode='array',\n",
    "                 tickvals=methods, ticktext=methods)\n",
    "fig.update_yaxes(title_text='Mean Squared Distance (mm)')\n",
    "\n",
    "fig.show()"
   ]
  },
  {
   "cell_type": "code",
   "execution_count": null,
   "id": "b7208627",
   "metadata": {},
   "outputs": [],
   "source": []
  }
 ],
 "metadata": {
  "kernelspec": {
   "display_name": "rush_env",
   "language": "python",
   "name": "python3"
  },
  "language_info": {
   "codemirror_mode": {
    "name": "ipython",
    "version": 3
   },
   "file_extension": ".py",
   "mimetype": "text/x-python",
   "name": "python",
   "nbconvert_exporter": "python",
   "pygments_lexer": "ipython3",
   "version": "3.8.18"
  }
 },
 "nbformat": 4,
 "nbformat_minor": 5
}
